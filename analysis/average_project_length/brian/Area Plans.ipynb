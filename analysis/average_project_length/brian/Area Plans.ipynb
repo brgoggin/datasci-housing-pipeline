{
 "cells": [
  {
   "cell_type": "code",
   "execution_count": 107,
   "metadata": {
    "collapsed": true
   },
   "outputs": [],
   "source": [
    "import pandas as pd\n",
    "import logging\n",
    "import dateutil\n",
    "from dateutil import parser\n",
    "import numpy as np\n",
    "import matplotlib.pyplot as plt\n",
    "import geopandas as gpd\n",
    "from geopandas import GeoDataFrame\n",
    "from shapely.geometry import Point\n",
    "%matplotlib inline\n",
    "pd.set_option('display.max_columns', 500)"
   ]
  },
  {
   "cell_type": "code",
   "execution_count": 108,
   "metadata": {
    "collapsed": true
   },
   "outputs": [],
   "source": [
    "#import dataset of final cleaned projects from \"data\" folder\n",
    "file = \"../../../data/cleaned/final_cleaned_projects.csv\"\n",
    "output=\"../../Output/Entire Sample/\"\n",
    "df = pd.read_csv(file)"
   ]
  },
  {
   "cell_type": "markdown",
   "metadata": {},
   "source": [
    "# Merge in Geographic Information and Make Big Dataframe"
   ]
  },
  {
   "cell_type": "code",
   "execution_count": 109,
   "metadata": {
    "collapsed": true
   },
   "outputs": [],
   "source": [
    "#first, convert points to geodataframe\n",
    "crs = {'init' :'epsg:4326'}\n",
    "geometry = [Point(xy) for xy in zip(df.x, df.y)]\n",
    "devs = GeoDataFrame(df, crs=crs, geometry=geometry)\n",
    "devs = devs.to_crs({'init': 'epsg:4326'}) "
   ]
  },
  {
   "cell_type": "code",
   "execution_count": 110,
   "metadata": {
    "collapsed": true
   },
   "outputs": [],
   "source": [
    "#import neighborhoods\n",
    "neighborhoods = gpd.read_file('../../../data/gis/area_plans/area_plans.shp')"
   ]
  },
  {
   "cell_type": "code",
   "execution_count": 111,
   "metadata": {
    "collapsed": true
   },
   "outputs": [],
   "source": [
    "#convert boundaries to geographic coordinate system to conform to points\n",
    "neighborhoods = neighborhoods.to_crs({'init': 'epsg:4326'}) "
   ]
  },
  {
   "cell_type": "code",
   "execution_count": 112,
   "metadata": {
    "collapsed": false
   },
   "outputs": [
    {
     "data": {
      "text/plain": [
       "(2475, 42)"
      ]
     },
     "execution_count": 112,
     "metadata": {},
     "output_type": "execute_result"
    }
   ],
   "source": [
    "devs.shape"
   ]
  },
  {
   "cell_type": "code",
   "execution_count": 113,
   "metadata": {
    "collapsed": false
   },
   "outputs": [
    {
     "data": {
      "text/plain": [
       "(2769, 49)"
      ]
     },
     "execution_count": 113,
     "metadata": {},
     "output_type": "execute_result"
    }
   ],
   "source": [
    "#First, spatial join between points and neighborhood boundaries. Set 'how' to 'left' to preserve all developments\n",
    "df = gpd.sjoin(devs, neighborhoods, how = 'left', op='within')\n",
    "df.shape"
   ]
  },
  {
   "cell_type": "code",
   "execution_count": 114,
   "metadata": {
    "collapsed": true
   },
   "outputs": [],
   "source": [
    "#in order to use as much data as possible, I am not keeping all data and just creating time vars where we can (i.e. where they are nonnull)\n",
    "def permit_time(value):\n",
    "    returnval=np.nan\n",
    "    if pd.notnull(value['BP_date']) & pd.notnull(value['first_date']):\n",
    "        returnval=((dateutil.parser.parse(value['BP_date']) - dateutil.parser.parse(value['first_date'])).days)/365\n",
    "    return returnval\n",
    "def bp_time(value):\n",
    "    returnval=np.nan\n",
    "    if pd.notnull(value['con_date']) & pd.notnull(value['BP_date']):\n",
    "        returnval=((dateutil.parser.parse(value['con_date']) - dateutil.parser.parse(value['BP_date'])).days)/365\n",
    "    return returnval\n",
    "def con_time(value):\n",
    "    returnval=np.nan\n",
    "    if pd.notnull(value['comp_date']) & pd.notnull(value['con_date']):\n",
    "        returnval=((dateutil.parser.parse(value['comp_date']) - dateutil.parser.parse(value['con_date'])).days)/365\n",
    "    return returnval\n",
    "    \n",
    "df['permit_time']=df.apply(permit_time, axis=1)\n",
    "df['bp_time']=df.apply(bp_time, axis=1)\n",
    "df['con_time']=df.apply(con_time, axis=1)"
   ]
  },
  {
   "cell_type": "code",
   "execution_count": 115,
   "metadata": {
    "collapsed": false
   },
   "outputs": [
    {
     "data": {
      "text/plain": [
       "2475"
      ]
     },
     "execution_count": 115,
     "metadata": {},
     "output_type": "execute_result"
    }
   ],
   "source": [
    "#drop duplicates that arise because of overlapping planning areas\n",
    "df['unique_key']=df['address_x']+df['apn']+df['first_date']\n",
    "len(df['unique_key'].unique())"
   ]
  },
  {
   "cell_type": "code",
   "execution_count": 116,
   "metadata": {
    "collapsed": false
   },
   "outputs": [],
   "source": [
    "df.drop_duplicates('unique_key', keep='first', inplace=True)"
   ]
  },
  {
   "cell_type": "code",
   "execution_count": 117,
   "metadata": {
    "collapsed": false
   },
   "outputs": [
    {
     "data": {
      "text/plain": [
       "(2475, 53)"
      ]
     },
     "execution_count": 117,
     "metadata": {},
     "output_type": "execute_result"
    }
   ],
   "source": [
    "df.shape"
   ]
  },
  {
   "cell_type": "code",
   "execution_count": 118,
   "metadata": {
    "collapsed": true
   },
   "outputs": [],
   "source": [
    "df['plan_area']=pd.notnull(df['planarea'])"
   ]
  },
  {
   "cell_type": "code",
   "execution_count": 119,
   "metadata": {
    "collapsed": true
   },
   "outputs": [],
   "source": [
    "#per unit variables\n",
    "df['ptime_per_unit']=df['permit_time']/df['units']\n",
    "df['bptime_per_unit']=df['bp_time']/df['units']\n",
    "df['contime_per_unit']=df['con_time']/df['units']"
   ]
  },
  {
   "cell_type": "code",
   "execution_count": 120,
   "metadata": {
    "collapsed": true
   },
   "outputs": [],
   "source": [
    "df_pa=df[df['plan_area']==True]\n",
    "df_npa=df[df['plan_area']==False]"
   ]
  },
  {
   "cell_type": "code",
   "execution_count": 121,
   "metadata": {
    "collapsed": true
   },
   "outputs": [],
   "source": [
    "#average times by plan and not plan area\n",
    "#average times per unit by plan and not plan area\n",
    "#t-tests, averages, and sample sizes"
   ]
  },
  {
   "cell_type": "code",
   "execution_count": 122,
   "metadata": {
    "collapsed": false
   },
   "outputs": [
    {
     "name": "stdout",
     "output_type": "stream",
     "text": [
      "Entitlement Time:\n",
      "2.7511284380700314 1.76803911676821\n",
      "1.280751462704843e-14\n",
      "383\n",
      "706\n",
      "Construction Prep Time:\n",
      "1.0886971728359078 1.1328734114540353\n",
      "0.6574059095099064\n",
      "235\n",
      "415\n",
      "Construction Time:\n",
      "1.3246261633378649 1.179532634971797\n",
      "0.1754821607589882\n",
      "262\n",
      "459\n"
     ]
    }
   ],
   "source": [
    "#do some t-tests\n",
    "from scipy.stats import ttest_ind\n",
    "\n",
    "print (\"Entitlement Time:\")\n",
    "print (df_pa['permit_time'].mean().astype(str), df_npa['permit_time'].mean().astype(str))\n",
    "print (ttest_ind(df_pa['permit_time'], df_npa['permit_time'], nan_policy='omit')[1].astype(str))\n",
    "print (str(df_pa[pd.notnull(df_pa['permit_time'])].count()['permit_time']))\n",
    "print (str(df_npa[pd.notnull(df_npa['permit_time'])].count()['permit_time']))\n",
    "\n",
    "print (\"Construction Prep Time:\")\n",
    "print (df_pa['bp_time'].mean().astype(str), df_npa['bp_time'].mean().astype(str))\n",
    "print (ttest_ind(df_pa['bp_time'], df_npa['bp_time'], nan_policy='omit')[1].astype(str))\n",
    "print (str(df_pa[pd.notnull(df_pa['bp_time'])].count()['bp_time']))\n",
    "print (str(df_npa[pd.notnull(df_npa['bp_time'])].count()['bp_time']))\n",
    "\n",
    "print (\"Construction Time:\")\n",
    "print (df_pa['con_time'].mean().astype(str), df_npa['con_time'].mean().astype(str))\n",
    "print (ttest_ind(df_pa['con_time'], df_npa['con_time'], nan_policy='omit')[1].astype(str))\n",
    "print (str(df_pa[pd.notnull(df_pa['con_time'])].count()['con_time']))\n",
    "print (str(df_npa[pd.notnull(df_npa['con_time'])].count()['con_time']))"
   ]
  },
  {
   "cell_type": "code",
   "execution_count": 123,
   "metadata": {
    "collapsed": false
   },
   "outputs": [
    {
     "name": "stdout",
     "output_type": "stream",
     "text": [
      "Entitlement Time:\n",
      "0.8673579155859166 1.3518801165366217\n",
      "7.215670841100008e-10\n",
      "383\n",
      "706\n",
      "Construction Prep Time:\n",
      "0.493203284832352 0.886130392683126\n",
      "1.3010946114385201e-06\n",
      "235\n",
      "415\n",
      "Construction Time:\n",
      "0.6059701504300024 0.922799526491177\n",
      "0.0010284462064382863\n",
      "262\n",
      "459\n"
     ]
    }
   ],
   "source": [
    "#do some t-tests\n",
    "from scipy.stats import ttest_ind\n",
    "\n",
    "print (\"Entitlement Time:\")\n",
    "print (df_pa['ptime_per_unit'].mean().astype(str), df_npa['ptime_per_unit'].mean().astype(str))\n",
    "print (ttest_ind(df_pa['ptime_per_unit'], df_npa['ptime_per_unit'], nan_policy='omit')[1].astype(str))\n",
    "print (str(df_pa[pd.notnull(df_pa['ptime_per_unit'])].count()['ptime_per_unit']))\n",
    "print (str(df_npa[pd.notnull(df_npa['ptime_per_unit'])].count()['ptime_per_unit']))\n",
    "\n",
    "print (\"Construction Prep Time:\")\n",
    "print (df_pa['bptime_per_unit'].mean().astype(str), df_npa['bptime_per_unit'].mean().astype(str))\n",
    "print (ttest_ind(df_pa['bptime_per_unit'], df_npa['bptime_per_unit'], nan_policy='omit')[1].astype(str))\n",
    "print (str(df_pa[pd.notnull(df_pa['bptime_per_unit'])].count()['bptime_per_unit']))\n",
    "print (str(df_npa[pd.notnull(df_npa['bptime_per_unit'])].count()['bptime_per_unit']))\n",
    "\n",
    "print (\"Construction Time:\")\n",
    "print (df_pa['contime_per_unit'].mean().astype(str), df_npa['contime_per_unit'].mean().astype(str))\n",
    "print (ttest_ind(df_pa['contime_per_unit'], df_npa['contime_per_unit'], nan_policy='omit')[1].astype(str))\n",
    "print (str(df_pa[pd.notnull(df_pa['contime_per_unit'])].count()['contime_per_unit']))\n",
    "print (str(df_npa[pd.notnull(df_npa['contime_per_unit'])].count()['contime_per_unit']))"
   ]
  },
  {
   "cell_type": "code",
   "execution_count": null,
   "metadata": {
    "collapsed": true
   },
   "outputs": [],
   "source": []
  },
  {
   "cell_type": "code",
   "execution_count": null,
   "metadata": {
    "collapsed": true
   },
   "outputs": [],
   "source": []
  },
  {
   "cell_type": "code",
   "execution_count": null,
   "metadata": {
    "collapsed": true
   },
   "outputs": [],
   "source": []
  },
  {
   "cell_type": "code",
   "execution_count": null,
   "metadata": {
    "collapsed": true
   },
   "outputs": [],
   "source": []
  }
 ],
 "metadata": {
  "kernelspec": {
   "display_name": "Python [OSMNX]",
   "language": "python",
   "name": "Python [OSMNX]"
  },
  "language_info": {
   "codemirror_mode": {
    "name": "ipython",
    "version": 3
   },
   "file_extension": ".py",
   "mimetype": "text/x-python",
   "name": "python",
   "nbconvert_exporter": "python",
   "pygments_lexer": "ipython3",
   "version": "3.6.4"
  }
 },
 "nbformat": 4,
 "nbformat_minor": 0
}
