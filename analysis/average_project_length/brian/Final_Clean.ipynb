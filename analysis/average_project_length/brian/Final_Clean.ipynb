{
 "cells": [
  {
   "cell_type": "code",
   "execution_count": 1,
   "metadata": {
    "collapsed": true
   },
   "outputs": [],
   "source": [
    "import pandas as pd\n",
    "import logging\n",
    "import dateutil\n",
    "from dateutil import parser\n",
    "import numpy as np\n",
    "import matplotlib.pyplot as plt\n",
    "import geopandas as gpd\n",
    "from geopandas import GeoDataFrame\n",
    "from shapely.geometry import Point\n",
    "%matplotlib inline\n",
    "pd.set_option('display.max_columns', 500)"
   ]
  },
  {
   "cell_type": "code",
   "execution_count": 2,
   "metadata": {
    "collapsed": true
   },
   "outputs": [],
   "source": [
    "#import dataset of project times from \"data\" folder\n",
    "file = \"../../../data/cleaned/all_quarters__one_record_per_project.csv\"\n",
    "output=\"../../Output/Entire Sample/\"\n",
    "df = pd.read_csv(file)"
   ]
  },
  {
   "cell_type": "markdown",
   "metadata": {},
   "source": [
    "# Initial Data Cleaning"
   ]
  },
  {
   "cell_type": "code",
   "execution_count": 3,
   "metadata": {
    "collapsed": true
   },
   "outputs": [],
   "source": [
    "#First, filter out those projects that are exclusively non-residential (defined as those without units)\n",
    "df = df[df['units'] > 0]"
   ]
  },
  {
   "cell_type": "code",
   "execution_count": 4,
   "metadata": {
    "collapsed": true
   },
   "outputs": [],
   "source": [
    "#Next, keep only those that reached completion at some point over the time period\n",
    "#by leaving out this, we actually have less of a sample size for some of the charts \n",
    "#because there is more chance for duplicate building permits\n",
    "#df=df[pd.notnull(df['comp_date'])]"
   ]
  },
  {
   "cell_type": "code",
   "execution_count": 5,
   "metadata": {
    "collapsed": false
   },
   "outputs": [
    {
     "data": {
      "text/plain": [
       "(3081, 29)"
      ]
     },
     "execution_count": 5,
     "metadata": {},
     "output_type": "execute_result"
    }
   ],
   "source": [
    "df.shape"
   ]
  },
  {
   "cell_type": "code",
   "execution_count": 6,
   "metadata": {
    "collapsed": true
   },
   "outputs": [],
   "source": [
    "# drop those that don't have a firstfiled date.\n",
    "df=df[pd.notnull(df['firstfiled'])]\n",
    "df=df[df['firstfiled'] !='']"
   ]
  },
  {
   "cell_type": "code",
   "execution_count": 7,
   "metadata": {
    "collapsed": false
   },
   "outputs": [
    {
     "data": {
      "text/plain": [
       "(2793, 29)"
      ]
     },
     "execution_count": 7,
     "metadata": {},
     "output_type": "execute_result"
    }
   ],
   "source": [
    "df.shape"
   ]
  },
  {
   "cell_type": "code",
   "execution_count": 8,
   "metadata": {
    "collapsed": true
   },
   "outputs": [],
   "source": [
    "#drop BP duplicates for now—this suggests that they are likely duplicates. \n",
    "#This includes records with BP \"MULTIPLE\" because these are mostly mega projects and we don't want them in the sample\n",
    "df['bp_duplicates']=df.duplicated('dbi_permit', keep=False)\n",
    "df=df[(df['bp_duplicates']==False) | (pd.isnull(df['dbi_permit']))]"
   ]
  },
  {
   "cell_type": "code",
   "execution_count": 9,
   "metadata": {
    "collapsed": false
   },
   "outputs": [
    {
     "data": {
      "text/plain": [
       "(2475, 30)"
      ]
     },
     "execution_count": 9,
     "metadata": {},
     "output_type": "execute_result"
    }
   ],
   "source": [
    "df.shape"
   ]
  },
  {
   "cell_type": "code",
   "execution_count": 10,
   "metadata": {
    "collapsed": true
   },
   "outputs": [],
   "source": [
    "# make sure there are no duplicate first dates on same address-APN (aka drop those that have duplicate projects on same Address-APN combination)\n",
    "df= df[~ df.duplicated(['address', 'apn', 'first_date'], keep=False)]"
   ]
  },
  {
   "cell_type": "code",
   "execution_count": 11,
   "metadata": {
    "collapsed": false
   },
   "outputs": [
    {
     "data": {
      "text/plain": [
       "(2475, 30)"
      ]
     },
     "execution_count": 11,
     "metadata": {},
     "output_type": "execute_result"
    }
   ],
   "source": [
    "df.shape"
   ]
  },
  {
   "cell_type": "code",
   "execution_count": 12,
   "metadata": {
    "collapsed": true
   },
   "outputs": [],
   "source": [
    "df['project_time_years']=df['project_duration_days']/365"
   ]
  },
  {
   "cell_type": "code",
   "execution_count": 13,
   "metadata": {
    "collapsed": false
   },
   "outputs": [
    {
     "data": {
      "text/html": [
       "<div>\n",
       "<style scoped>\n",
       "    .dataframe tbody tr th:only-of-type {\n",
       "        vertical-align: middle;\n",
       "    }\n",
       "\n",
       "    .dataframe tbody tr th {\n",
       "        vertical-align: top;\n",
       "    }\n",
       "\n",
       "    .dataframe thead th {\n",
       "        text-align: right;\n",
       "    }\n",
       "</style>\n",
       "<table border=\"1\" class=\"dataframe\">\n",
       "  <thead>\n",
       "    <tr style=\"text-align: right;\">\n",
       "      <th></th>\n",
       "      <th>Unnamed: 0</th>\n",
       "      <th>BP_date</th>\n",
       "      <th>address</th>\n",
       "      <th>aff</th>\n",
       "      <th>affnet</th>\n",
       "      <th>apn</th>\n",
       "      <th>best_date</th>\n",
       "      <th>best_stat</th>\n",
       "      <th>comp_date</th>\n",
       "      <th>con_date</th>\n",
       "      <th>dbi_permit</th>\n",
       "      <th>dropped_out</th>\n",
       "      <th>first_date</th>\n",
       "      <th>first_project_record_date</th>\n",
       "      <th>firstfiled</th>\n",
       "      <th>latest_project_record_date</th>\n",
       "      <th>latest_project_status</th>\n",
       "      <th>project_dates</th>\n",
       "      <th>project_duration_days</th>\n",
       "      <th>project_statuses</th>\n",
       "      <th>report_quarter</th>\n",
       "      <th>report_year</th>\n",
       "      <th>status</th>\n",
       "      <th>units</th>\n",
       "      <th>unitsnet</th>\n",
       "      <th>x</th>\n",
       "      <th>y</th>\n",
       "      <th>zoning</th>\n",
       "      <th>zoning_simplified</th>\n",
       "      <th>bp_duplicates</th>\n",
       "      <th>project_time_years</th>\n",
       "    </tr>\n",
       "  </thead>\n",
       "  <tbody>\n",
       "    <tr>\n",
       "      <th>3353</th>\n",
       "      <td>0</td>\n",
       "      <td>NaN</td>\n",
       "      <td>833-881 JAMESTOWN</td>\n",
       "      <td>0.0</td>\n",
       "      <td>0.0</td>\n",
       "      <td>4991277</td>\n",
       "      <td>2007-09-17</td>\n",
       "      <td>CONSTRUCTION</td>\n",
       "      <td>04/01/2015</td>\n",
       "      <td>2007-09-17</td>\n",
       "      <td>9924080S</td>\n",
       "      <td>False</td>\n",
       "      <td>1991-02-19</td>\n",
       "      <td>2007-09-17</td>\n",
       "      <td>1991-02-19</td>\n",
       "      <td>2007-09-17</td>\n",
       "      <td>CONSTRUCTION</td>\n",
       "      <td>('2007-09-17', '2007-09-17', '2007-09-17', '20...</td>\n",
       "      <td>8807.0</td>\n",
       "      <td>('CONSTRUCTION', 'CONSTRUCTION', 'CONSTRUCTION...</td>\n",
       "      <td>1</td>\n",
       "      <td>2015</td>\n",
       "      <td>Under Construction</td>\n",
       "      <td>132.0</td>\n",
       "      <td>14.0</td>\n",
       "      <td>-122.392222</td>\n",
       "      <td>37.717174</td>\n",
       "      <td>RH-2</td>\n",
       "      <td>RH-2</td>\n",
       "      <td>False</td>\n",
       "      <td>24.128767</td>\n",
       "    </tr>\n",
       "    <tr>\n",
       "      <th>3021</th>\n",
       "      <td>0</td>\n",
       "      <td>2008-11-07</td>\n",
       "      <td>1179 TENNESSEE ST</td>\n",
       "      <td>0.0</td>\n",
       "      <td>0.0</td>\n",
       "      <td>4172053</td>\n",
       "      <td>2014-12-18</td>\n",
       "      <td>CONSTRUCTION</td>\n",
       "      <td>01/01/2015</td>\n",
       "      <td>2014-03-21</td>\n",
       "      <td>9902819</td>\n",
       "      <td>False</td>\n",
       "      <td>1999-02-11</td>\n",
       "      <td>2008-11-07</td>\n",
       "      <td>1999-02-11</td>\n",
       "      <td>2014-12-18</td>\n",
       "      <td>CONSTRUCTION</td>\n",
       "      <td>('2008-11-07', '2009-11-03', '2009-11-03', '20...</td>\n",
       "      <td>5803.0</td>\n",
       "      <td>('BP REINSTATED', 'BP REINSTATED', 'BP REINSTA...</td>\n",
       "      <td>4</td>\n",
       "      <td>2014</td>\n",
       "      <td>Under Construction</td>\n",
       "      <td>8.0</td>\n",
       "      <td>8.0</td>\n",
       "      <td>-122.389058</td>\n",
       "      <td>37.755993</td>\n",
       "      <td>UMU</td>\n",
       "      <td>UMU</td>\n",
       "      <td>False</td>\n",
       "      <td>15.898630</td>\n",
       "    </tr>\n",
       "    <tr>\n",
       "      <th>239</th>\n",
       "      <td>0</td>\n",
       "      <td>2014-02-12</td>\n",
       "      <td>480 POTRERO AV</td>\n",
       "      <td>11.0</td>\n",
       "      <td>11.0</td>\n",
       "      <td>3973002C</td>\n",
       "      <td>2016-01-13</td>\n",
       "      <td>CONSTRUCTION</td>\n",
       "      <td>07/01/2016</td>\n",
       "      <td>2015-03-26</td>\n",
       "      <td>201306250465</td>\n",
       "      <td>False</td>\n",
       "      <td>2002-03-22</td>\n",
       "      <td>2004-08-17</td>\n",
       "      <td>2002-03-22</td>\n",
       "      <td>2016-01-13</td>\n",
       "      <td>CONSTRUCTION</td>\n",
       "      <td>('2004-08-17', '2012-10-04', '2012-10-04', '20...</td>\n",
       "      <td>5215.0</td>\n",
       "      <td>('BP ISSUED', 'PL FILED', 'PL FILED', 'BP FILE...</td>\n",
       "      <td>2</td>\n",
       "      <td>2016</td>\n",
       "      <td>Under Construction</td>\n",
       "      <td>77.0</td>\n",
       "      <td>77.0</td>\n",
       "      <td>-122.407671</td>\n",
       "      <td>37.763478</td>\n",
       "      <td>UMU</td>\n",
       "      <td>UMU</td>\n",
       "      <td>False</td>\n",
       "      <td>14.287671</td>\n",
       "    </tr>\n",
       "    <tr>\n",
       "      <th>1523</th>\n",
       "      <td>0</td>\n",
       "      <td>NaN</td>\n",
       "      <td>950 CORBETT AV</td>\n",
       "      <td>0.0</td>\n",
       "      <td>0.0</td>\n",
       "      <td>2799013</td>\n",
       "      <td>2007-03-13</td>\n",
       "      <td>CONSTRUCTION</td>\n",
       "      <td>01/01/2016</td>\n",
       "      <td>2007-03-13</td>\n",
       "      <td>200201106632</td>\n",
       "      <td>False</td>\n",
       "      <td>2002-01-10</td>\n",
       "      <td>2007-03-13</td>\n",
       "      <td>2002-01-10</td>\n",
       "      <td>2007-03-13</td>\n",
       "      <td>CONSTRUCTION</td>\n",
       "      <td>('2007-03-13', '2007-03-13', '2007-03-13', '20...</td>\n",
       "      <td>5104.0</td>\n",
       "      <td>('CONSTRUCTION', 'CONSTRUCTION', 'CONSTRUCTION...</td>\n",
       "      <td>4</td>\n",
       "      <td>2015</td>\n",
       "      <td>Under Construction</td>\n",
       "      <td>3.0</td>\n",
       "      <td>3.0</td>\n",
       "      <td>-122.443730</td>\n",
       "      <td>37.751832</td>\n",
       "      <td>RM-1</td>\n",
       "      <td>RM-1</td>\n",
       "      <td>False</td>\n",
       "      <td>13.983562</td>\n",
       "    </tr>\n",
       "    <tr>\n",
       "      <th>3180</th>\n",
       "      <td>0</td>\n",
       "      <td>NaN</td>\n",
       "      <td>LUMINA (PLAZA C)</td>\n",
       "      <td>0.0</td>\n",
       "      <td>0.0</td>\n",
       "      <td>3746001</td>\n",
       "      <td>2016-07-01</td>\n",
       "      <td>CONSTRUCTION</td>\n",
       "      <td>07/01/2016</td>\n",
       "      <td>2016-07-01</td>\n",
       "      <td>201207124725</td>\n",
       "      <td>False</td>\n",
       "      <td>2002-07-11</td>\n",
       "      <td>2016-07-01</td>\n",
       "      <td>2002-07-11</td>\n",
       "      <td>2016-07-01</td>\n",
       "      <td>CONSTRUCTION</td>\n",
       "      <td>('2016-07-01',)</td>\n",
       "      <td>5104.0</td>\n",
       "      <td>('CONSTRUCTION',)</td>\n",
       "      <td>2</td>\n",
       "      <td>2016</td>\n",
       "      <td>Under Construction</td>\n",
       "      <td>80.0</td>\n",
       "      <td>80.0</td>\n",
       "      <td>-122.391516</td>\n",
       "      <td>37.788413</td>\n",
       "      <td>RH DTR</td>\n",
       "      <td>RH DTR</td>\n",
       "      <td>False</td>\n",
       "      <td>13.983562</td>\n",
       "    </tr>\n",
       "  </tbody>\n",
       "</table>\n",
       "</div>"
      ],
      "text/plain": [
       "      Unnamed: 0     BP_date            address   aff  affnet       apn  \\\n",
       "3353           0         NaN  833-881 JAMESTOWN   0.0     0.0   4991277   \n",
       "3021           0  2008-11-07  1179 TENNESSEE ST   0.0     0.0   4172053   \n",
       "239            0  2014-02-12     480 POTRERO AV  11.0    11.0  3973002C   \n",
       "1523           0         NaN     950 CORBETT AV   0.0     0.0   2799013   \n",
       "3180           0         NaN   LUMINA (PLAZA C)   0.0     0.0   3746001   \n",
       "\n",
       "       best_date     best_stat   comp_date    con_date    dbi_permit  \\\n",
       "3353  2007-09-17  CONSTRUCTION  04/01/2015  2007-09-17      9924080S   \n",
       "3021  2014-12-18  CONSTRUCTION  01/01/2015  2014-03-21       9902819   \n",
       "239   2016-01-13  CONSTRUCTION  07/01/2016  2015-03-26  201306250465   \n",
       "1523  2007-03-13  CONSTRUCTION  01/01/2016  2007-03-13  200201106632   \n",
       "3180  2016-07-01  CONSTRUCTION  07/01/2016  2016-07-01  201207124725   \n",
       "\n",
       "      dropped_out  first_date first_project_record_date  firstfiled  \\\n",
       "3353        False  1991-02-19                2007-09-17  1991-02-19   \n",
       "3021        False  1999-02-11                2008-11-07  1999-02-11   \n",
       "239         False  2002-03-22                2004-08-17  2002-03-22   \n",
       "1523        False  2002-01-10                2007-03-13  2002-01-10   \n",
       "3180        False  2002-07-11                2016-07-01  2002-07-11   \n",
       "\n",
       "     latest_project_record_date latest_project_status  \\\n",
       "3353                 2007-09-17          CONSTRUCTION   \n",
       "3021                 2014-12-18          CONSTRUCTION   \n",
       "239                  2016-01-13          CONSTRUCTION   \n",
       "1523                 2007-03-13          CONSTRUCTION   \n",
       "3180                 2016-07-01          CONSTRUCTION   \n",
       "\n",
       "                                          project_dates  \\\n",
       "3353  ('2007-09-17', '2007-09-17', '2007-09-17', '20...   \n",
       "3021  ('2008-11-07', '2009-11-03', '2009-11-03', '20...   \n",
       "239   ('2004-08-17', '2012-10-04', '2012-10-04', '20...   \n",
       "1523  ('2007-03-13', '2007-03-13', '2007-03-13', '20...   \n",
       "3180                                    ('2016-07-01',)   \n",
       "\n",
       "      project_duration_days  \\\n",
       "3353                 8807.0   \n",
       "3021                 5803.0   \n",
       "239                  5215.0   \n",
       "1523                 5104.0   \n",
       "3180                 5104.0   \n",
       "\n",
       "                                       project_statuses  report_quarter  \\\n",
       "3353  ('CONSTRUCTION', 'CONSTRUCTION', 'CONSTRUCTION...               1   \n",
       "3021  ('BP REINSTATED', 'BP REINSTATED', 'BP REINSTA...               4   \n",
       "239   ('BP ISSUED', 'PL FILED', 'PL FILED', 'BP FILE...               2   \n",
       "1523  ('CONSTRUCTION', 'CONSTRUCTION', 'CONSTRUCTION...               4   \n",
       "3180                                  ('CONSTRUCTION',)               2   \n",
       "\n",
       "      report_year              status  units  unitsnet           x          y  \\\n",
       "3353         2015  Under Construction  132.0      14.0 -122.392222  37.717174   \n",
       "3021         2014  Under Construction    8.0       8.0 -122.389058  37.755993   \n",
       "239          2016  Under Construction   77.0      77.0 -122.407671  37.763478   \n",
       "1523         2015  Under Construction    3.0       3.0 -122.443730  37.751832   \n",
       "3180         2016  Under Construction   80.0      80.0 -122.391516  37.788413   \n",
       "\n",
       "      zoning zoning_simplified  bp_duplicates  project_time_years  \n",
       "3353    RH-2              RH-2          False           24.128767  \n",
       "3021     UMU               UMU          False           15.898630  \n",
       "239      UMU               UMU          False           14.287671  \n",
       "1523    RM-1              RM-1          False           13.983562  \n",
       "3180  RH DTR            RH DTR          False           13.983562  "
      ]
     },
     "execution_count": 13,
     "metadata": {},
     "output_type": "execute_result"
    }
   ],
   "source": [
    "# Top 5 longest projects\n",
    "df.sort_values('project_time_years', ascending = False)[0:5]"
   ]
  },
  {
   "cell_type": "code",
   "execution_count": 14,
   "metadata": {
    "collapsed": false
   },
   "outputs": [
    {
     "data": {
      "text/html": [
       "<div>\n",
       "<style scoped>\n",
       "    .dataframe tbody tr th:only-of-type {\n",
       "        vertical-align: middle;\n",
       "    }\n",
       "\n",
       "    .dataframe tbody tr th {\n",
       "        vertical-align: top;\n",
       "    }\n",
       "\n",
       "    .dataframe thead th {\n",
       "        text-align: right;\n",
       "    }\n",
       "</style>\n",
       "<table border=\"1\" class=\"dataframe\">\n",
       "  <thead>\n",
       "    <tr style=\"text-align: right;\">\n",
       "      <th></th>\n",
       "      <th>Unnamed: 0</th>\n",
       "      <th>BP_date</th>\n",
       "      <th>address</th>\n",
       "      <th>aff</th>\n",
       "      <th>affnet</th>\n",
       "      <th>apn</th>\n",
       "      <th>best_date</th>\n",
       "      <th>best_stat</th>\n",
       "      <th>comp_date</th>\n",
       "      <th>con_date</th>\n",
       "      <th>dbi_permit</th>\n",
       "      <th>dropped_out</th>\n",
       "      <th>first_date</th>\n",
       "      <th>first_project_record_date</th>\n",
       "      <th>firstfiled</th>\n",
       "      <th>latest_project_record_date</th>\n",
       "      <th>latest_project_status</th>\n",
       "      <th>project_dates</th>\n",
       "      <th>project_duration_days</th>\n",
       "      <th>project_statuses</th>\n",
       "      <th>report_quarter</th>\n",
       "      <th>report_year</th>\n",
       "      <th>status</th>\n",
       "      <th>units</th>\n",
       "      <th>unitsnet</th>\n",
       "      <th>x</th>\n",
       "      <th>y</th>\n",
       "      <th>zoning</th>\n",
       "      <th>zoning_simplified</th>\n",
       "      <th>bp_duplicates</th>\n",
       "      <th>project_time_years</th>\n",
       "    </tr>\n",
       "  </thead>\n",
       "  <tbody>\n",
       "    <tr>\n",
       "      <th>1644</th>\n",
       "      <td>0</td>\n",
       "      <td>NaN</td>\n",
       "      <td>850 30TH AV</td>\n",
       "      <td>NaN</td>\n",
       "      <td>NaN</td>\n",
       "      <td>1672024</td>\n",
       "      <td>2010-02-24</td>\n",
       "      <td>CONSTRUCTION</td>\n",
       "      <td>04/01/2010</td>\n",
       "      <td>2010-02-24</td>\n",
       "      <td>200910269851</td>\n",
       "      <td>False</td>\n",
       "      <td>2009-10-26</td>\n",
       "      <td>2009-10-26</td>\n",
       "      <td>2009-10-26</td>\n",
       "      <td>2010-02-24</td>\n",
       "      <td>CONSTRUCTION</td>\n",
       "      <td>('2009-10-26', '2010-02-24')</td>\n",
       "      <td>157.0</td>\n",
       "      <td>('BP FILED', 'CONSTRUCTION')</td>\n",
       "      <td>1</td>\n",
       "      <td>2010</td>\n",
       "      <td>Under Construction</td>\n",
       "      <td>2.0</td>\n",
       "      <td>NaN</td>\n",
       "      <td>-122.489282</td>\n",
       "      <td>37.773244</td>\n",
       "      <td>RH-2</td>\n",
       "      <td>RH-2</td>\n",
       "      <td>False</td>\n",
       "      <td>0.430137</td>\n",
       "    </tr>\n",
       "    <tr>\n",
       "      <th>2046</th>\n",
       "      <td>0</td>\n",
       "      <td>NaN</td>\n",
       "      <td>414 SOMERSET ST</td>\n",
       "      <td>0.0</td>\n",
       "      <td>0.0</td>\n",
       "      <td>6044003</td>\n",
       "      <td>2015-10-05</td>\n",
       "      <td>CONSTRUCTION</td>\n",
       "      <td>2015-10-05</td>\n",
       "      <td>2015-10-05</td>\n",
       "      <td>201504103396</td>\n",
       "      <td>False</td>\n",
       "      <td>2015-04-10</td>\n",
       "      <td>2015-04-10</td>\n",
       "      <td>2015-04-10</td>\n",
       "      <td>2015-10-05</td>\n",
       "      <td>CONSTRUCTION</td>\n",
       "      <td>('2015-04-10', '2015-10-05')</td>\n",
       "      <td>178.0</td>\n",
       "      <td>('BP FILED', 'CONSTRUCTION')</td>\n",
       "      <td>3</td>\n",
       "      <td>2015</td>\n",
       "      <td>Under Construction</td>\n",
       "      <td>2.0</td>\n",
       "      <td>1.0</td>\n",
       "      <td>-122.407649</td>\n",
       "      <td>37.726252</td>\n",
       "      <td>RH-1</td>\n",
       "      <td>RH-1</td>\n",
       "      <td>False</td>\n",
       "      <td>0.487671</td>\n",
       "    </tr>\n",
       "    <tr>\n",
       "      <th>21</th>\n",
       "      <td>0</td>\n",
       "      <td>2012-10-26</td>\n",
       "      <td>55 05TH ST</td>\n",
       "      <td>NaN</td>\n",
       "      <td>NaN</td>\n",
       "      <td>3705039</td>\n",
       "      <td>2012-12-12</td>\n",
       "      <td>CONSTRUCTION</td>\n",
       "      <td>01/01/2013</td>\n",
       "      <td>2012-12-12</td>\n",
       "      <td>201206202986</td>\n",
       "      <td>False</td>\n",
       "      <td>2012-06-20</td>\n",
       "      <td>2012-06-20</td>\n",
       "      <td>2012-06-20 00:00:00</td>\n",
       "      <td>2012-12-12</td>\n",
       "      <td>CONSTRUCTION</td>\n",
       "      <td>('2012-06-20', '2012-10-26', '2012-12-12')</td>\n",
       "      <td>195.0</td>\n",
       "      <td>('BP FILED', 'BP APPROVED', 'CONSTRUCTION')</td>\n",
       "      <td>4</td>\n",
       "      <td>2012</td>\n",
       "      <td>Under Construction</td>\n",
       "      <td>116.0</td>\n",
       "      <td>8.0</td>\n",
       "      <td>-122.407185</td>\n",
       "      <td>37.783461</td>\n",
       "      <td>C-3-R</td>\n",
       "      <td>C-3-R</td>\n",
       "      <td>False</td>\n",
       "      <td>0.534247</td>\n",
       "    </tr>\n",
       "    <tr>\n",
       "      <th>1628</th>\n",
       "      <td>0</td>\n",
       "      <td>2012-10-23</td>\n",
       "      <td>28 PRECITA AV</td>\n",
       "      <td>NaN</td>\n",
       "      <td>NaN</td>\n",
       "      <td>5518023</td>\n",
       "      <td>2012-11-15</td>\n",
       "      <td>CONSTRUCTION</td>\n",
       "      <td>01/01/2013</td>\n",
       "      <td>2012-11-15</td>\n",
       "      <td>201206203050</td>\n",
       "      <td>False</td>\n",
       "      <td>2012-06-20</td>\n",
       "      <td>2012-06-20</td>\n",
       "      <td>2012-06-20 00:00:00</td>\n",
       "      <td>2012-11-15</td>\n",
       "      <td>CONSTRUCTION</td>\n",
       "      <td>('2012-06-20', '2012-10-23', '2012-11-15')</td>\n",
       "      <td>195.0</td>\n",
       "      <td>('BP FILED', 'BP ISSUED', 'CONSTRUCTION')</td>\n",
       "      <td>4</td>\n",
       "      <td>2012</td>\n",
       "      <td>Under Construction</td>\n",
       "      <td>2.0</td>\n",
       "      <td>1.0</td>\n",
       "      <td>-122.418489</td>\n",
       "      <td>37.746472</td>\n",
       "      <td>RH-2</td>\n",
       "      <td>RH-2</td>\n",
       "      <td>False</td>\n",
       "      <td>0.534247</td>\n",
       "    </tr>\n",
       "    <tr>\n",
       "      <th>1917</th>\n",
       "      <td>0</td>\n",
       "      <td>NaN</td>\n",
       "      <td>64 14TH ST</td>\n",
       "      <td>NaN</td>\n",
       "      <td>NaN</td>\n",
       "      <td>3529017</td>\n",
       "      <td>2009-08-07</td>\n",
       "      <td>CONSTRUCTION</td>\n",
       "      <td>10/01/2009</td>\n",
       "      <td>2009-08-07</td>\n",
       "      <td>200903194471</td>\n",
       "      <td>False</td>\n",
       "      <td>2009-03-19</td>\n",
       "      <td>2009-08-07</td>\n",
       "      <td>2009-03-19</td>\n",
       "      <td>2009-08-07</td>\n",
       "      <td>CONSTRUCTION</td>\n",
       "      <td>('2009-08-07',)</td>\n",
       "      <td>196.0</td>\n",
       "      <td>('CONSTRUCTION',)</td>\n",
       "      <td>3</td>\n",
       "      <td>2009</td>\n",
       "      <td>Under Construction</td>\n",
       "      <td>1.0</td>\n",
       "      <td>-1.0</td>\n",
       "      <td>-122.414942</td>\n",
       "      <td>37.768706</td>\n",
       "      <td>PDR-1-G</td>\n",
       "      <td>PDR-1-G</td>\n",
       "      <td>False</td>\n",
       "      <td>0.536986</td>\n",
       "    </tr>\n",
       "  </tbody>\n",
       "</table>\n",
       "</div>"
      ],
      "text/plain": [
       "      Unnamed: 0     BP_date          address  aff  affnet      apn  \\\n",
       "1644           0         NaN      850 30TH AV  NaN     NaN  1672024   \n",
       "2046           0         NaN  414 SOMERSET ST  0.0     0.0  6044003   \n",
       "21             0  2012-10-26       55 05TH ST  NaN     NaN  3705039   \n",
       "1628           0  2012-10-23    28 PRECITA AV  NaN     NaN  5518023   \n",
       "1917           0         NaN       64 14TH ST  NaN     NaN  3529017   \n",
       "\n",
       "       best_date     best_stat   comp_date    con_date    dbi_permit  \\\n",
       "1644  2010-02-24  CONSTRUCTION  04/01/2010  2010-02-24  200910269851   \n",
       "2046  2015-10-05  CONSTRUCTION  2015-10-05  2015-10-05  201504103396   \n",
       "21    2012-12-12  CONSTRUCTION  01/01/2013  2012-12-12  201206202986   \n",
       "1628  2012-11-15  CONSTRUCTION  01/01/2013  2012-11-15  201206203050   \n",
       "1917  2009-08-07  CONSTRUCTION  10/01/2009  2009-08-07  200903194471   \n",
       "\n",
       "      dropped_out  first_date first_project_record_date           firstfiled  \\\n",
       "1644        False  2009-10-26                2009-10-26           2009-10-26   \n",
       "2046        False  2015-04-10                2015-04-10           2015-04-10   \n",
       "21          False  2012-06-20                2012-06-20  2012-06-20 00:00:00   \n",
       "1628        False  2012-06-20                2012-06-20  2012-06-20 00:00:00   \n",
       "1917        False  2009-03-19                2009-08-07           2009-03-19   \n",
       "\n",
       "     latest_project_record_date latest_project_status  \\\n",
       "1644                 2010-02-24          CONSTRUCTION   \n",
       "2046                 2015-10-05          CONSTRUCTION   \n",
       "21                   2012-12-12          CONSTRUCTION   \n",
       "1628                 2012-11-15          CONSTRUCTION   \n",
       "1917                 2009-08-07          CONSTRUCTION   \n",
       "\n",
       "                                   project_dates  project_duration_days  \\\n",
       "1644                ('2009-10-26', '2010-02-24')                  157.0   \n",
       "2046                ('2015-04-10', '2015-10-05')                  178.0   \n",
       "21    ('2012-06-20', '2012-10-26', '2012-12-12')                  195.0   \n",
       "1628  ('2012-06-20', '2012-10-23', '2012-11-15')                  195.0   \n",
       "1917                             ('2009-08-07',)                  196.0   \n",
       "\n",
       "                                 project_statuses  report_quarter  \\\n",
       "1644                 ('BP FILED', 'CONSTRUCTION')               1   \n",
       "2046                 ('BP FILED', 'CONSTRUCTION')               3   \n",
       "21    ('BP FILED', 'BP APPROVED', 'CONSTRUCTION')               4   \n",
       "1628    ('BP FILED', 'BP ISSUED', 'CONSTRUCTION')               4   \n",
       "1917                            ('CONSTRUCTION',)               3   \n",
       "\n",
       "      report_year              status  units  unitsnet           x          y  \\\n",
       "1644         2010  Under Construction    2.0       NaN -122.489282  37.773244   \n",
       "2046         2015  Under Construction    2.0       1.0 -122.407649  37.726252   \n",
       "21           2012  Under Construction  116.0       8.0 -122.407185  37.783461   \n",
       "1628         2012  Under Construction    2.0       1.0 -122.418489  37.746472   \n",
       "1917         2009  Under Construction    1.0      -1.0 -122.414942  37.768706   \n",
       "\n",
       "       zoning zoning_simplified  bp_duplicates  project_time_years  \n",
       "1644     RH-2              RH-2          False            0.430137  \n",
       "2046     RH-1              RH-1          False            0.487671  \n",
       "21      C-3-R             C-3-R          False            0.534247  \n",
       "1628     RH-2              RH-2          False            0.534247  \n",
       "1917  PDR-1-G           PDR-1-G          False            0.536986  "
      ]
     },
     "execution_count": 14,
     "metadata": {},
     "output_type": "execute_result"
    }
   ],
   "source": [
    "# Top 5 shortest projects\n",
    "df.sort_values('project_time_years', ascending = True)[0:5]"
   ]
  },
  {
   "cell_type": "code",
   "execution_count": 15,
   "metadata": {
    "collapsed": true
   },
   "outputs": [],
   "source": [
    "#Manual Data Cleaning for some fishy values based on top 5 shortest list above\n",
    "#df.loc[(df['address']=='55 05TH ST') & (new_df['apn']=='3705039'), 'units'] = 8 #looked up on PIM. Simple adding 8 units.\n",
    "#df.loc[(df['address']=='545 POST ST') & (new_df['apn']=='0306022'), 'units'] = 4 #looked up on PIM. Simple adding 4 units\n",
    "#df.loc[(df['address']=='555 POST ST') & (new_df['apn']=='0306020'), 'units'] = 17 #looked up on PIM. Simple adding 4 units\n",
    "#df.loc[(df['address']=='515 JOHN MUIR DR') & (new_df['apn']=='7282005'), 'units'] = 2 #looked up on PIM. Change of use to residential. 2 additional units\n",
    "\n",
    "#based on the above cases, unit count seems to be the unit count at the site at the end of \n",
    "#the project rather than the unit count of the project itself. Because of this, I will be adjust\n",
    "#unit counts that are more than the net units added to the net units added amount. If units net\n",
    "#is missing, just accept unit count as true for now.\n",
    "\n",
    "def unit_change(value):\n",
    "    return_val=value['units']\n",
    "    if pd.notnull(value['unitsnet']):\n",
    "        if value['unitsnet']<0:\n",
    "            return_val = value['units']\n",
    "        elif value['unitsnet']==0:\n",
    "            return_val = value['units']\n",
    "        elif value['unitsnet']<value['units']:\n",
    "            return_val = value['unitsnet']\n",
    "        else:\n",
    "            return_val=value['units']\n",
    "    return return_val\n",
    "\n",
    "def aff_change(value):\n",
    "    return_val=value['aff']\n",
    "    if pd.notnull(value['affnet']):\n",
    "        if value['affnet']<0:\n",
    "            return_val = value['aff']\n",
    "        elif value['affnet']==0:\n",
    "            return_val = value['aff']\n",
    "        elif value['affnet']<value['aff']:\n",
    "            return_val = value['affnet']\n",
    "        else:\n",
    "            return_val=value['aff']\n",
    "    return return_val\n",
    "\n",
    "df['units']=df.apply(unit_change, axis=1)\n",
    "df['aff']=df.apply(aff_change, axis=1)"
   ]
  },
  {
   "cell_type": "code",
   "execution_count": 16,
   "metadata": {
    "collapsed": false
   },
   "outputs": [
    {
     "data": {
      "text/plain": [
       "count    721.000000\n",
       "mean       4.426379\n",
       "std        3.052768\n",
       "min        0.430137\n",
       "25%        2.043836\n",
       "50%        3.717808\n",
       "75%        6.109589\n",
       "max       24.128767\n",
       "Name: project_time_years, dtype: float64"
      ]
     },
     "execution_count": 16,
     "metadata": {},
     "output_type": "execute_result"
    }
   ],
   "source": [
    "df['project_time_years'].describe()"
   ]
  },
  {
   "cell_type": "markdown",
   "metadata": {},
   "source": [
    "# Merge in Additional Affordable Housing Information"
   ]
  },
  {
   "cell_type": "code",
   "execution_count": 17,
   "metadata": {
    "collapsed": false
   },
   "outputs": [
    {
     "data": {
      "text/plain": [
       "(2475, 31)"
      ]
     },
     "execution_count": 17,
     "metadata": {},
     "output_type": "execute_result"
    }
   ],
   "source": [
    "df.shape"
   ]
  },
  {
   "cell_type": "code",
   "execution_count": 18,
   "metadata": {
    "collapsed": false
   },
   "outputs": [],
   "source": [
    "#import data on LIHTC properties\n",
    "lihtc=pd.read_excel(\"../../../data/Affordable-Projects/projects.xlsx\", sheet_name='San Francisco')"
   ]
  },
  {
   "cell_type": "code",
   "execution_count": 19,
   "metadata": {
    "collapsed": false
   },
   "outputs": [
    {
     "data": {
      "text/html": [
       "<div>\n",
       "<style scoped>\n",
       "    .dataframe tbody tr th:only-of-type {\n",
       "        vertical-align: middle;\n",
       "    }\n",
       "\n",
       "    .dataframe tbody tr th {\n",
       "        vertical-align: top;\n",
       "    }\n",
       "\n",
       "    .dataframe thead th {\n",
       "        text-align: right;\n",
       "    }\n",
       "</style>\n",
       "<table border=\"1\" class=\"dataframe\">\n",
       "  <thead>\n",
       "    <tr style=\"text-align: right;\">\n",
       "      <th></th>\n",
       "      <th>Application Number</th>\n",
       "      <th>Unnamed: 1</th>\n",
       "      <th>Type of tax credit funding</th>\n",
       "      <th>Project Name</th>\n",
       "      <th>Project Address</th>\n",
       "      <th>Project City</th>\n",
       "      <th>Project Zip Code</th>\n",
       "      <th>Project Phone Number</th>\n",
       "      <th>Project County</th>\n",
       "      <th>California Assembly District</th>\n",
       "      <th>California Senate District</th>\n",
       "      <th>Federal Congressional District</th>\n",
       "      <th>Census Tract</th>\n",
       "      <th>Assessor's Parcel Number (APN)</th>\n",
       "      <th>Application Stage</th>\n",
       "      <th>Placed in Service (PIS) Date</th>\n",
       "      <th>Last Building PIS Date</th>\n",
       "      <th>Construction Type</th>\n",
       "      <th>Housing Type</th>\n",
       "      <th>Total Units</th>\n",
       "      <th>Low Income Units</th>\n",
       "      <th>Number of SRO/Studio Units</th>\n",
       "      <th>Number of 1 Bedroom Units</th>\n",
       "      <th>Number of 2 Bedroom Units</th>\n",
       "      <th>Number of 3 Bedroom Units</th>\n",
       "      <th>Number of 4 Bedroom Units</th>\n",
       "      <th>Number of 5 Bedroom Units</th>\n",
       "      <th>Number of 6 Bedroom Units</th>\n",
       "      <th>Units at or below 30% AMI</th>\n",
       "      <th>Units at 35% AMI</th>\n",
       "      <th>Units at 40% AMI</th>\n",
       "      <th>Units at 45% AMI</th>\n",
       "      <th>Units at 50% AMI</th>\n",
       "      <th>Units at 55% AMI</th>\n",
       "      <th>Units at 60% AMI</th>\n",
       "      <th>Owner or Applicant Name</th>\n",
       "      <th>Owner/Applicant Contact</th>\n",
       "      <th>Owner/Applicant Address</th>\n",
       "      <th>Owner/Applicant City</th>\n",
       "      <th>Owner/Applicant State</th>\n",
       "      <th>Owner/Applicant Zip</th>\n",
       "      <th>Owner/Applicant Phone</th>\n",
       "      <th>Owner/Applicant Fax</th>\n",
       "      <th>General Partner (1)</th>\n",
       "      <th>General Partner (2)</th>\n",
       "      <th>General Partner (3)</th>\n",
       "      <th>General Partner (4)</th>\n",
       "      <th>General Partner (5)</th>\n",
       "      <th>Management Company</th>\n",
       "      <th>Management Company Contact</th>\n",
       "      <th>Management Company Address</th>\n",
       "      <th>Management Company City</th>\n",
       "      <th>Management Company State</th>\n",
       "      <th>Management Company Zip</th>\n",
       "      <th>Management Company Phone</th>\n",
       "      <th>Management Company Fax</th>\n",
       "      <th>Developer</th>\n",
       "      <th>Annual Federal Award</th>\n",
       "      <th>Total State Award</th>\n",
       "    </tr>\n",
       "  </thead>\n",
       "  <tbody>\n",
       "    <tr>\n",
       "      <th>54</th>\n",
       "      <td>CA-2001-810</td>\n",
       "      <td>NaN</td>\n",
       "      <td>0.04</td>\n",
       "      <td>8th and Howard Family Apartments</td>\n",
       "      <td>1166 Howard Street, San Francisco, CA 94103</td>\n",
       "      <td>San Francisco</td>\n",
       "      <td>94103</td>\n",
       "      <td>(415) 441-0260</td>\n",
       "      <td>San Francisco</td>\n",
       "      <td>17.0</td>\n",
       "      <td>11.0</td>\n",
       "      <td>12.0</td>\n",
       "      <td>178.02</td>\n",
       "      <td>3727-026</td>\n",
       "      <td>Placed In Service</td>\n",
       "      <td>2003-04-03</td>\n",
       "      <td>2003-04-03</td>\n",
       "      <td>New Construction</td>\n",
       "      <td>Large Family</td>\n",
       "      <td>74.0</td>\n",
       "      <td>73.0</td>\n",
       "      <td>0.0</td>\n",
       "      <td>12.0</td>\n",
       "      <td>40.0</td>\n",
       "      <td>22.0</td>\n",
       "      <td>0.0</td>\n",
       "      <td>0.0</td>\n",
       "      <td>0.0</td>\n",
       "      <td>NaN</td>\n",
       "      <td>NaN</td>\n",
       "      <td>NaN</td>\n",
       "      <td>NaN</td>\n",
       "      <td>NaN</td>\n",
       "      <td>NaN</td>\n",
       "      <td>NaN</td>\n",
       "      <td>1166 Howard Street Associates, a California L.P.</td>\n",
       "      <td>Brandon Flannery</td>\n",
       "      <td>215 Taylor Street</td>\n",
       "      <td>San Francisco</td>\n",
       "      <td>CA</td>\n",
       "      <td>94102</td>\n",
       "      <td>(415) 358-3935</td>\n",
       "      <td>(415) 409-8636</td>\n",
       "      <td>Howard Street Development Corporation</td>\n",
       "      <td>NaN</td>\n",
       "      <td>NaN</td>\n",
       "      <td>NaN</td>\n",
       "      <td>NaN</td>\n",
       "      <td>Tenderloin Neighborhood Development Corporation</td>\n",
       "      <td>Felicia Scruggs-Wright</td>\n",
       "      <td>215 Taylor Street</td>\n",
       "      <td>San Francisco</td>\n",
       "      <td>CA</td>\n",
       "      <td>94102</td>\n",
       "      <td>(415) 358-3903</td>\n",
       "      <td>(415) 409-8363</td>\n",
       "      <td>NaN</td>\n",
       "      <td>805553.0</td>\n",
       "      <td>0.0</td>\n",
       "    </tr>\n",
       "  </tbody>\n",
       "</table>\n",
       "</div>"
      ],
      "text/plain": [
       "   Application Number  Unnamed: 1 Type of tax credit funding  \\\n",
       "54        CA-2001-810         NaN                       0.04   \n",
       "\n",
       "                        Project Name  \\\n",
       "54  8th and Howard Family Apartments   \n",
       "\n",
       "                                     Project Address   Project City  \\\n",
       "54  1166 Howard Street, San Francisco, CA 94103       San Francisco   \n",
       "\n",
       "   Project Zip Code Project Phone Number Project County  \\\n",
       "54            94103       (415) 441-0260  San Francisco   \n",
       "\n",
       "    California Assembly District  California Senate District  \\\n",
       "54                          17.0                        11.0   \n",
       "\n",
       "    Federal Congressional District Census Tract  \\\n",
       "54                            12.0       178.02   \n",
       "\n",
       "   Assessor's Parcel Number (APN)  Application Stage  \\\n",
       "54                       3727-026  Placed In Service   \n",
       "\n",
       "   Placed in Service (PIS) Date  Last Building PIS Date Construction Type  \\\n",
       "54                    2003-04-03             2003-04-03  New Construction   \n",
       "\n",
       "    Housing Type  Total Units  Low Income Units  Number of SRO/Studio Units  \\\n",
       "54  Large Family         74.0              73.0                         0.0   \n",
       "\n",
       "    Number of 1 Bedroom Units  Number of 2 Bedroom Units  \\\n",
       "54                       12.0                       40.0   \n",
       "\n",
       "    Number of 3 Bedroom Units  Number of 4 Bedroom Units  \\\n",
       "54                       22.0                        0.0   \n",
       "\n",
       "    Number of 5 Bedroom Units  Number of 6 Bedroom Units  \\\n",
       "54                        0.0                        0.0   \n",
       "\n",
       "    Units at or below 30% AMI  Units at 35% AMI  Units at 40% AMI  \\\n",
       "54                        NaN               NaN               NaN   \n",
       "\n",
       "    Units at 45% AMI  Units at 50% AMI  Units at 55% AMI  Units at 60% AMI  \\\n",
       "54               NaN               NaN               NaN               NaN   \n",
       "\n",
       "                             Owner or Applicant Name Owner/Applicant Contact  \\\n",
       "54  1166 Howard Street Associates, a California L.P.        Brandon Flannery   \n",
       "\n",
       "   Owner/Applicant Address Owner/Applicant City Owner/Applicant State  \\\n",
       "54       215 Taylor Street        San Francisco                    CA   \n",
       "\n",
       "   Owner/Applicant Zip Owner/Applicant Phone Owner/Applicant Fax  \\\n",
       "54               94102        (415) 358-3935      (415) 409-8636   \n",
       "\n",
       "                      General Partner (1) General Partner (2)  \\\n",
       "54  Howard Street Development Corporation                 NaN   \n",
       "\n",
       "   General Partner (3) General Partner (4) General Partner (5)  \\\n",
       "54                 NaN                 NaN                 NaN   \n",
       "\n",
       "                                 Management Company  \\\n",
       "54  Tenderloin Neighborhood Development Corporation   \n",
       "\n",
       "   Management Company Contact Management Company Address  \\\n",
       "54     Felicia Scruggs-Wright          215 Taylor Street   \n",
       "\n",
       "   Management Company City Management Company State Management Company Zip  \\\n",
       "54           San Francisco                       CA                  94102   \n",
       "\n",
       "   Management Company Phone Management Company Fax Developer  \\\n",
       "54           (415) 358-3903         (415) 409-8363       NaN   \n",
       "\n",
       "    Annual Federal Award  Total State Award  \n",
       "54              805553.0                0.0  "
      ]
     },
     "execution_count": 19,
     "metadata": {},
     "output_type": "execute_result"
    }
   ],
   "source": [
    "lihtc[lihtc.duplicated('Project Address')==True]"
   ]
  },
  {
   "cell_type": "code",
   "execution_count": 20,
   "metadata": {
    "collapsed": false
   },
   "outputs": [],
   "source": [
    "#Take out just street address \n",
    "lihtc['address']=lihtc['Project Address'].str.split(\",\").str[0]\n",
    "#capitalize all letters to match with dev pipeline addresses\n",
    "lihtc['address']=lihtc['address'].str.upper()"
   ]
  },
  {
   "cell_type": "code",
   "execution_count": 21,
   "metadata": {
    "collapsed": false
   },
   "outputs": [
    {
     "name": "stdout",
     "output_type": "stream",
     "text": [
      "93\n",
      "85\n"
     ]
    }
   ],
   "source": [
    "#import and test fuzzy match\n",
    "from fuzzywuzzy import fuzz\n",
    "print (str(fuzz.partial_ratio(\"1166 Howard Street\", \"1166 Howard St.\")))\n",
    "print (str(fuzz.ratio(\"1166 Howard Street\", \"1166 Howard St.\")))"
   ]
  },
  {
   "cell_type": "code",
   "execution_count": 22,
   "metadata": {
    "collapsed": false
   },
   "outputs": [],
   "source": [
    "#add variable for address of affordable development\n",
    "def match_address(value):\n",
    "    address = value['address']\n",
    "    result=''\n",
    "    for index, row in lihtc.iterrows():\n",
    "        ratio = fuzz.partial_ratio(address, row['address'])\n",
    "        if ratio>95:\n",
    "            result= row['address']\n",
    "        else:\n",
    "            if result=='':\n",
    "                result=''\n",
    "            else:\n",
    "                result=result\n",
    "    return result\n",
    "\n",
    "df['aff_address']=df.apply(match_address, axis=1)\n",
    "\n",
    "    "
   ]
  },
  {
   "cell_type": "code",
   "execution_count": 23,
   "metadata": {
    "collapsed": false,
    "scrolled": true
   },
   "outputs": [],
   "source": [
    "#df[df['aff_address']!=''][['address', 'aff_address']]"
   ]
  },
  {
   "cell_type": "code",
   "execution_count": 24,
   "metadata": {
    "collapsed": true
   },
   "outputs": [],
   "source": [
    "#after manual inspection of matches above, throw out incorrect ones\n",
    "df.loc[(df['address']=='2700 ARELIOUS WALKER DR'), 'aff_address'] = ''\n",
    "df.loc[(df['address']=='2500 ARELIOUS WALKER DR'), 'aff_address'] = ''\n",
    "df.loc[(df['address']=='2600 ARELIOUS WALKER DR'), 'aff_address'] = ''\n",
    "df.loc[(df['address']=='1 FRANKLIN ST'), 'aff_address'] = ''"
   ]
  },
  {
   "cell_type": "code",
   "execution_count": 25,
   "metadata": {
    "collapsed": true
   },
   "outputs": [],
   "source": [
    "#keep only lihtc variables of interest before merge\n",
    "lihtc=lihtc[['address', 'Low Income Units', 'Placed in Service (PIS) Date ']]"
   ]
  },
  {
   "cell_type": "code",
   "execution_count": 26,
   "metadata": {
    "collapsed": true
   },
   "outputs": [],
   "source": [
    "df=df.merge(lihtc, how='left', left_on='aff_address', right_on='address')"
   ]
  },
  {
   "cell_type": "code",
   "execution_count": 27,
   "metadata": {
    "collapsed": true
   },
   "outputs": [],
   "source": [
    "def aff_change2(value):\n",
    "    return_val=value['aff']\n",
    "    if value['aff_address']!='':\n",
    "        if pd.isnull(value['aff']):\n",
    "            return_val=value['Low Income Units']\n",
    "        elif value['aff']==0:\n",
    "            return_val=value['Low Income Units']\n",
    "        else:\n",
    "            return_val=value['aff']\n",
    "    return return_val\n",
    "            \n",
    "\n",
    "df['aff']=df.apply(aff_change2, axis=1)"
   ]
  },
  {
   "cell_type": "code",
   "execution_count": 28,
   "metadata": {
    "collapsed": false
   },
   "outputs": [
    {
     "data": {
      "text/html": [
       "<div>\n",
       "<style scoped>\n",
       "    .dataframe tbody tr th:only-of-type {\n",
       "        vertical-align: middle;\n",
       "    }\n",
       "\n",
       "    .dataframe tbody tr th {\n",
       "        vertical-align: top;\n",
       "    }\n",
       "\n",
       "    .dataframe thead th {\n",
       "        text-align: right;\n",
       "    }\n",
       "</style>\n",
       "<table border=\"1\" class=\"dataframe\">\n",
       "  <thead>\n",
       "    <tr style=\"text-align: right;\">\n",
       "      <th></th>\n",
       "      <th>address_x</th>\n",
       "      <th>aff_address</th>\n",
       "      <th>aff</th>\n",
       "      <th>affnet</th>\n",
       "      <th>Low Income Units</th>\n",
       "      <th>first_date</th>\n",
       "      <th>Placed in Service (PIS) Date</th>\n",
       "    </tr>\n",
       "  </thead>\n",
       "  <tbody>\n",
       "    <tr>\n",
       "      <th>64</th>\n",
       "      <td>350 GOLDEN GATE AV</td>\n",
       "      <td>350 GOLDEN GATE AVENUE</td>\n",
       "      <td>69.0</td>\n",
       "      <td>NaN</td>\n",
       "      <td>69.0</td>\n",
       "      <td>2010-11-01</td>\n",
       "      <td>2012-08-01</td>\n",
       "    </tr>\n",
       "    <tr>\n",
       "      <th>391</th>\n",
       "      <td>227 WEST POINT ROAD</td>\n",
       "      <td>227 WEST POINT ROAD</td>\n",
       "      <td>158.0</td>\n",
       "      <td>158.0</td>\n",
       "      <td>106.0</td>\n",
       "      <td>2007-02-14</td>\n",
       "      <td>2012-12-14</td>\n",
       "    </tr>\n",
       "    <tr>\n",
       "      <th>426</th>\n",
       "      <td>2175 MARKET ST</td>\n",
       "      <td>2175 MARKET STREET</td>\n",
       "      <td>18.0</td>\n",
       "      <td>NaN</td>\n",
       "      <td>18.0</td>\n",
       "      <td>2006-08-31</td>\n",
       "      <td>2014-10-17</td>\n",
       "    </tr>\n",
       "    <tr>\n",
       "      <th>474</th>\n",
       "      <td>280 BEALE ST</td>\n",
       "      <td>280 BEALE STREET</td>\n",
       "      <td>69.0</td>\n",
       "      <td>0.0</td>\n",
       "      <td>69.0</td>\n",
       "      <td>2013-04-02</td>\n",
       "      <td>2015-06-23</td>\n",
       "    </tr>\n",
       "    <tr>\n",
       "      <th>614</th>\n",
       "      <td>850 BRODERICK ST</td>\n",
       "      <td>850 BRODERICK ST.</td>\n",
       "      <td>46.0</td>\n",
       "      <td>NaN</td>\n",
       "      <td>46.0</td>\n",
       "      <td>2006-12-20</td>\n",
       "      <td>2010-01-11</td>\n",
       "    </tr>\n",
       "    <tr>\n",
       "      <th>765</th>\n",
       "      <td>701 GOLDEN GATE AV</td>\n",
       "      <td>701 GOLDEN GATE AVENUE</td>\n",
       "      <td>99.0</td>\n",
       "      <td>99.0</td>\n",
       "      <td>99.0</td>\n",
       "      <td>2006-10-23</td>\n",
       "      <td>2012-11-30</td>\n",
       "    </tr>\n",
       "    <tr>\n",
       "      <th>885</th>\n",
       "      <td>365 FULTON STREET</td>\n",
       "      <td>365 FULTON STREET</td>\n",
       "      <td>120.0</td>\n",
       "      <td>120.0</td>\n",
       "      <td>120.0</td>\n",
       "      <td>2008-07-11</td>\n",
       "      <td>2011-07-15</td>\n",
       "    </tr>\n",
       "    <tr>\n",
       "      <th>1148</th>\n",
       "      <td>2800 ARELIOUS WALKER DR</td>\n",
       "      <td>2800 ARELIOUS WALKER DRIVE</td>\n",
       "      <td>29.0</td>\n",
       "      <td>0.0</td>\n",
       "      <td>29.0</td>\n",
       "      <td>2016-08-29</td>\n",
       "      <td>NaT</td>\n",
       "    </tr>\n",
       "    <tr>\n",
       "      <th>1258</th>\n",
       "      <td>150 OTIS ST</td>\n",
       "      <td>150 OTIS STREET</td>\n",
       "      <td>75.0</td>\n",
       "      <td>NaN</td>\n",
       "      <td>75.0</td>\n",
       "      <td>2010-05-14</td>\n",
       "      <td>2012-10-19</td>\n",
       "    </tr>\n",
       "    <tr>\n",
       "      <th>1345</th>\n",
       "      <td>125 MASON ST</td>\n",
       "      <td>125 MASON STREET</td>\n",
       "      <td>81.0</td>\n",
       "      <td>81.0</td>\n",
       "      <td>80.0</td>\n",
       "      <td>2006-06-30</td>\n",
       "      <td>2008-08-26</td>\n",
       "    </tr>\n",
       "    <tr>\n",
       "      <th>1684</th>\n",
       "      <td>2501 SUTTER ST</td>\n",
       "      <td>2501 SUTTER STREET</td>\n",
       "      <td>131.0</td>\n",
       "      <td>0.0</td>\n",
       "      <td>131.0</td>\n",
       "      <td>2008-12-31</td>\n",
       "      <td>NaT</td>\n",
       "    </tr>\n",
       "    <tr>\n",
       "      <th>2168</th>\n",
       "      <td>474 NATOMA STREET</td>\n",
       "      <td>474 NATOMA STREET</td>\n",
       "      <td>58.0</td>\n",
       "      <td>58.0</td>\n",
       "      <td>59.0</td>\n",
       "      <td>2007-12-05</td>\n",
       "      <td>2013-11-21</td>\n",
       "    </tr>\n",
       "    <tr>\n",
       "      <th>2283</th>\n",
       "      <td>1500 PAGE ST</td>\n",
       "      <td>1500 PAGE STREET</td>\n",
       "      <td>16.0</td>\n",
       "      <td>NaN</td>\n",
       "      <td>16.0</td>\n",
       "      <td>2013-06-25</td>\n",
       "      <td>NaT</td>\n",
       "    </tr>\n",
       "    <tr>\n",
       "      <th>2377</th>\n",
       "      <td>149 MASON ST</td>\n",
       "      <td>149 MASON STREET</td>\n",
       "      <td>56.0</td>\n",
       "      <td>56.0</td>\n",
       "      <td>55.0</td>\n",
       "      <td>2006-04-18</td>\n",
       "      <td>2009-12-07</td>\n",
       "    </tr>\n",
       "    <tr>\n",
       "      <th>2408</th>\n",
       "      <td>220 GOLDEN GATE AV</td>\n",
       "      <td>220 GOLDEN GATE AVENUE</td>\n",
       "      <td>172.0</td>\n",
       "      <td>NaN</td>\n",
       "      <td>172.0</td>\n",
       "      <td>2008-02-13</td>\n",
       "      <td>2012-10-09</td>\n",
       "    </tr>\n",
       "  </tbody>\n",
       "</table>\n",
       "</div>"
      ],
      "text/plain": [
       "                    address_x                 aff_address    aff  affnet  \\\n",
       "64         350 GOLDEN GATE AV      350 GOLDEN GATE AVENUE   69.0     NaN   \n",
       "391       227 WEST POINT ROAD         227 WEST POINT ROAD  158.0   158.0   \n",
       "426            2175 MARKET ST          2175 MARKET STREET   18.0     NaN   \n",
       "474              280 BEALE ST            280 BEALE STREET   69.0     0.0   \n",
       "614          850 BRODERICK ST           850 BRODERICK ST.   46.0     NaN   \n",
       "765        701 GOLDEN GATE AV      701 GOLDEN GATE AVENUE   99.0    99.0   \n",
       "885         365 FULTON STREET           365 FULTON STREET  120.0   120.0   \n",
       "1148  2800 ARELIOUS WALKER DR  2800 ARELIOUS WALKER DRIVE   29.0     0.0   \n",
       "1258              150 OTIS ST             150 OTIS STREET   75.0     NaN   \n",
       "1345             125 MASON ST            125 MASON STREET   81.0    81.0   \n",
       "1684           2501 SUTTER ST          2501 SUTTER STREET  131.0     0.0   \n",
       "2168        474 NATOMA STREET           474 NATOMA STREET   58.0    58.0   \n",
       "2283             1500 PAGE ST            1500 PAGE STREET   16.0     NaN   \n",
       "2377             149 MASON ST            149 MASON STREET   56.0    56.0   \n",
       "2408       220 GOLDEN GATE AV      220 GOLDEN GATE AVENUE  172.0     NaN   \n",
       "\n",
       "      Low Income Units  first_date Placed in Service (PIS) Date   \n",
       "64                69.0  2010-11-01                    2012-08-01  \n",
       "391              106.0  2007-02-14                    2012-12-14  \n",
       "426               18.0  2006-08-31                    2014-10-17  \n",
       "474               69.0  2013-04-02                    2015-06-23  \n",
       "614               46.0  2006-12-20                    2010-01-11  \n",
       "765               99.0  2006-10-23                    2012-11-30  \n",
       "885              120.0  2008-07-11                    2011-07-15  \n",
       "1148              29.0  2016-08-29                           NaT  \n",
       "1258              75.0  2010-05-14                    2012-10-19  \n",
       "1345              80.0  2006-06-30                    2008-08-26  \n",
       "1684             131.0  2008-12-31                           NaT  \n",
       "2168              59.0  2007-12-05                    2013-11-21  \n",
       "2283              16.0  2013-06-25                           NaT  \n",
       "2377              55.0  2006-04-18                    2009-12-07  \n",
       "2408             172.0  2008-02-13                    2012-10-09  "
      ]
     },
     "execution_count": 28,
     "metadata": {},
     "output_type": "execute_result"
    }
   ],
   "source": [
    "#visual inspection reveals that LIHTC projects are indeed probably dev pipeline projects. No further filtering needed\n",
    "df[df['aff_address']!=''][['address_x', 'aff_address', 'aff', 'affnet', 'Low Income Units', 'first_date', 'Placed in Service (PIS) Date ']]"
   ]
  },
  {
   "cell_type": "code",
   "execution_count": 29,
   "metadata": {
    "collapsed": false
   },
   "outputs": [
    {
     "data": {
      "text/plain": [
       "(2475, 35)"
      ]
     },
     "execution_count": 29,
     "metadata": {},
     "output_type": "execute_result"
    }
   ],
   "source": [
    "df.shape"
   ]
  },
  {
   "cell_type": "markdown",
   "metadata": {},
   "source": [
    "## Merge in Inclusionary projects"
   ]
  },
  {
   "cell_type": "code",
   "execution_count": 30,
   "metadata": {
    "collapsed": false
   },
   "outputs": [],
   "source": [
    "iz=pd.read_csv('../../../data/Affordable-Projects/Residential_Projects_With_Inclusionary_Requirements.csv')"
   ]
  },
  {
   "cell_type": "code",
   "execution_count": 31,
   "metadata": {
    "collapsed": true
   },
   "outputs": [],
   "source": [
    "#Take out just street address \n",
    "iz['iz_address']=iz['Mapping Address'].str.split(\",\").str[0]\n",
    "#capitalize all letters to match with dev pipeline addresses\n",
    "iz['iz_address']=iz['iz_address'].str.upper()"
   ]
  },
  {
   "cell_type": "code",
   "execution_count": 32,
   "metadata": {
    "collapsed": false
   },
   "outputs": [],
   "source": [
    "#iz.head()"
   ]
  },
  {
   "cell_type": "code",
   "execution_count": 33,
   "metadata": {
    "collapsed": false
   },
   "outputs": [],
   "source": [
    "#add variable for address of affordable development\n",
    "def match_address2(value):\n",
    "    address = value['address_x']\n",
    "    result=''\n",
    "    for index, row in iz.iterrows():\n",
    "        ratio = fuzz.partial_ratio(address, row['iz_address'])\n",
    "        if ratio>95:\n",
    "            result= row['iz_address']\n",
    "        else:\n",
    "            if result=='':\n",
    "                result=''\n",
    "            else:\n",
    "                result=result\n",
    "    return result\n",
    "\n",
    "df['iz_address']=df.apply(match_address2, axis=1)"
   ]
  },
  {
   "cell_type": "code",
   "execution_count": 34,
   "metadata": {
    "collapsed": false
   },
   "outputs": [],
   "source": [
    "#df[df['iz_address']!=''][['address_x', 'iz_address']]\n"
   ]
  },
  {
   "cell_type": "code",
   "execution_count": 35,
   "metadata": {
    "collapsed": true
   },
   "outputs": [],
   "source": [
    "#after manual inspection of matches above, throw out incorrect ones\n",
    "df.loc[(df['address_x']=='5670 MISSION ST'), 'iz_address'] = ''\n",
    "df.loc[(df['address_x']=='231 FRANKLIN ST'), 'iz_address'] = ''\n",
    "df.loc[(df['address_x']=='198 VALENCIA ST'), 'iz_address'] = ''\n",
    "df.loc[(df['address_x']=='181 SOUTH PARK ST'), 'iz_address'] = ''\n",
    "df.loc[(df['address_x']=='1169 MARKET ST'), 'iz_address'] = ''\n",
    "df.loc[(df['address_x']=='1551 FRANKLIN ST'), 'iz_address'] = ''\n",
    "df.loc[(df['address_x']=='2782 FOLSOM ST'), 'iz_address'] = ''\n",
    "df.loc[(df['address_x']=='2909 BUSH ST'), 'iz_address'] = ''\n",
    "df.loc[(df['address_x']=='1523 FRANKLIN ST'), 'iz_address'] = ''\n",
    "df.loc[(df['address_x']=='424 OCTAVIA ST'), 'iz_address'] = ''\n",
    "df.loc[(df['address_x']=='102-104 OCTAVIA STREET'), 'iz_address'] = ''\n",
    "df.loc[(df['address_x']=='2001 17TH ST'), 'iz_address'] = ''\n",
    "df.loc[(df['address_x']=='987 DOLORES ST'), 'iz_address'] = ''\n",
    "df.loc[(df['address_x']=='1270 MISSION ST'), 'iz_address'] = ''\n",
    "df.loc[(df['address_x']=='1225 DOLORES ST'), 'iz_address'] = ''\n",
    "df.loc[(df['address_x']=='2855 FOLSOM ST'), 'iz_address'] = ''\n"
   ]
  },
  {
   "cell_type": "code",
   "execution_count": 36,
   "metadata": {
    "collapsed": true
   },
   "outputs": [],
   "source": [
    "iz=iz[['iz_address', 'Total BMRs in this Building or Phase', 'Planning Approval Date', 'Completion Date']]"
   ]
  },
  {
   "cell_type": "code",
   "execution_count": 37,
   "metadata": {
    "collapsed": true
   },
   "outputs": [],
   "source": [
    "#manually fix some duplicate IZs—assume earliest date and total units of multi-phase projects\n",
    "iz.loc[(iz['iz_address']=='1717 17TH ST'), 'Planning Approval Date'] = '07/15/2010'\n",
    "iz.loc[(iz['iz_address']=='1717 17TH ST'), 'Total BMRs in this Building or Phase'] = 2\n",
    "\n",
    "iz.loc[(iz['iz_address']=='101 EXECUTIVE PARK BLVD'), 'Planning Approval Date'] = '06/16/2005'\n",
    "iz.loc[(iz['iz_address']=='101 EXECUTIVE PARK BLVD'), 'Total BMRs in this Building or Phase'] = 18\n",
    "\n",
    "iz.loc[(iz['iz_address']=='100 VAN NESS AVE'), 'Planning Approval Date'] = '02/07/2013'\n",
    "iz.loc[(iz['iz_address']=='100 VAN NESS AVE'), 'Total BMRs in this Building or Phase'] = 50\n",
    "\n",
    "iz.loc[(iz['iz_address']=='690 MARKET ST'), 'Planning Approval Date'] = '03/08/2004'\n",
    "iz.loc[(iz['iz_address']=='690 MARKET ST'), 'Total BMRs in this Building or Phase'] = 0\n",
    "\n",
    "iz.drop_duplicates('iz_address', inplace=True)"
   ]
  },
  {
   "cell_type": "code",
   "execution_count": 38,
   "metadata": {
    "collapsed": false
   },
   "outputs": [
    {
     "data": {
      "text/plain": [
       "(2475, 36)"
      ]
     },
     "execution_count": 38,
     "metadata": {},
     "output_type": "execute_result"
    }
   ],
   "source": [
    "df.shape"
   ]
  },
  {
   "cell_type": "code",
   "execution_count": 39,
   "metadata": {
    "collapsed": true
   },
   "outputs": [],
   "source": [
    "df=df.merge(iz, how='left', left_on='iz_address', right_on='iz_address', indicator=True)"
   ]
  },
  {
   "cell_type": "code",
   "execution_count": 40,
   "metadata": {
    "collapsed": true
   },
   "outputs": [],
   "source": [
    "#as long as first-date and planning approval date from IZ data is not more than 20 years apart, assume they are the same project\n",
    "import dateutil\n",
    "from dateutil import parser\n"
   ]
  },
  {
   "cell_type": "code",
   "execution_count": 41,
   "metadata": {
    "collapsed": false
   },
   "outputs": [],
   "source": [
    "#finally, change affordable unit counts to that in the IZ data if the aff unit counts are blank in the dev pipeline data\n",
    "def aff_change3(value):\n",
    "    return_val=value['aff']\n",
    "    if value['iz_address']!='':\n",
    "        if (dateutil.parser.parse(value['first_date']) - dateutil.parser.parse(value['Planning Approval Date'])).days <= 7300:\n",
    "            if pd.isnull(value['aff']):\n",
    "                return_val=value['Total BMRs in this Building or Phase']\n",
    "            elif value['aff']==0:\n",
    "                return_val=value['Total BMRs in this Building or Phase']\n",
    "            else:\n",
    "                return_val=value['aff']\n",
    "    return return_val\n",
    "            \n",
    "\n",
    "df['aff']=df.apply(aff_change3, axis=1)"
   ]
  },
  {
   "cell_type": "code",
   "execution_count": 42,
   "metadata": {
    "collapsed": false
   },
   "outputs": [
    {
     "data": {
      "text/plain": [
       "(2475, 40)"
      ]
     },
     "execution_count": 42,
     "metadata": {},
     "output_type": "execute_result"
    }
   ],
   "source": [
    "df.shape"
   ]
  },
  {
   "cell_type": "code",
   "execution_count": 43,
   "metadata": {
    "collapsed": true
   },
   "outputs": [],
   "source": [
    "#export final set of cleaned, residential projects\n",
    "df.to_csv('../../../data/cleaned/final_cleaned_projects.csv')"
   ]
  }
 ],
 "metadata": {
  "anaconda-cloud": {},
  "kernelspec": {
   "display_name": "Python [OSMNX]",
   "language": "python",
   "name": "Python [OSMNX]"
  },
  "language_info": {
   "codemirror_mode": {
    "name": "ipython",
    "version": 3
   },
   "file_extension": ".py",
   "mimetype": "text/x-python",
   "name": "python",
   "nbconvert_exporter": "python",
   "pygments_lexer": "ipython3",
   "version": "3.6.4"
  }
 },
 "nbformat": 4,
 "nbformat_minor": 0
}
