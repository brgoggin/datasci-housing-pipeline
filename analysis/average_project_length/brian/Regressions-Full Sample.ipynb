{
 "cells": [
  {
   "cell_type": "markdown",
   "metadata": {},
   "source": [
    "# Linear Regressions"
   ]
  },
  {
   "cell_type": "code",
   "execution_count": 1,
   "metadata": {
    "collapsed": true
   },
   "outputs": [],
   "source": [
    "import pandas as pd\n",
    "import logging\n",
    "import dateutil\n",
    "from dateutil import parser\n",
    "import numpy as np\n",
    "import matplotlib.pyplot as plt\n",
    "import geopandas as gpd\n",
    "from geopandas import GeoDataFrame\n",
    "from shapely.geometry import Point\n",
    "%matplotlib inline\n",
    "pd.set_option('display.max_columns', 500)"
   ]
  },
  {
   "cell_type": "code",
   "execution_count": 2,
   "metadata": {
    "collapsed": false
   },
   "outputs": [],
   "source": [
    "#import dataset of project times from \"data\" folder\n",
    "file = \"../../../data/cleaned/all_quarters__one_record_per_project.csv\"\n",
    "output=\"../../Output/Entire Sample/\"\n",
    "df = pd.read_csv(file)"
   ]
  },
  {
   "cell_type": "markdown",
   "metadata": {},
   "source": [
    "# Initial Data Cleaning"
   ]
  },
  {
   "cell_type": "code",
   "execution_count": 3,
   "metadata": {
    "collapsed": true
   },
   "outputs": [],
   "source": [
    "#First, filter out those projects that are exclusively non-residential (defined as those without units)\n",
    "df = df[df['units'] > 0]"
   ]
  },
  {
   "cell_type": "code",
   "execution_count": 4,
   "metadata": {
    "collapsed": false
   },
   "outputs": [
    {
     "data": {
      "text/plain": [
       "(3081, 27)"
      ]
     },
     "execution_count": 4,
     "metadata": {},
     "output_type": "execute_result"
    }
   ],
   "source": [
    "df.shape"
   ]
  },
  {
   "cell_type": "code",
   "execution_count": 5,
   "metadata": {
    "collapsed": false
   },
   "outputs": [],
   "source": [
    "# drop those that don't have a firstfiled date.\n",
    "df=df[pd.notnull(df['firstfiled'])]\n",
    "df=df[df['firstfiled'] !='']"
   ]
  },
  {
   "cell_type": "code",
   "execution_count": 6,
   "metadata": {
    "collapsed": false
   },
   "outputs": [
    {
     "data": {
      "text/plain": [
       "(2793, 27)"
      ]
     },
     "execution_count": 6,
     "metadata": {},
     "output_type": "execute_result"
    }
   ],
   "source": [
    "df.shape"
   ]
  },
  {
   "cell_type": "code",
   "execution_count": 7,
   "metadata": {
    "collapsed": false
   },
   "outputs": [],
   "source": [
    "#drop BP duplicates for now—this suggests that they are likely duplicates. \n",
    "#This includes records with BP \"MULTIPLE\" because these are mostly mega projects and we don't want them in the sample\n",
    "df['bp_duplicates']=df.duplicated('dbi_permit', keep=False)\n",
    "df=df[(df['bp_duplicates']==False) | (pd.isnull(df['dbi_permit']))]"
   ]
  },
  {
   "cell_type": "code",
   "execution_count": 8,
   "metadata": {
    "collapsed": false
   },
   "outputs": [
    {
     "data": {
      "text/plain": [
       "(2475, 28)"
      ]
     },
     "execution_count": 8,
     "metadata": {},
     "output_type": "execute_result"
    }
   ],
   "source": [
    "df.shape"
   ]
  },
  {
   "cell_type": "code",
   "execution_count": 9,
   "metadata": {
    "collapsed": false
   },
   "outputs": [],
   "source": [
    "# make sure there are no duplicate first dates on same address-APN (aka drop those that have duplicate projects on same Address-APN combination)\n",
    "df= df[~ df.duplicated(['address', 'apn', 'first_date'], keep=False)]"
   ]
  },
  {
   "cell_type": "code",
   "execution_count": 10,
   "metadata": {
    "collapsed": false
   },
   "outputs": [
    {
     "data": {
      "text/plain": [
       "(2475, 28)"
      ]
     },
     "execution_count": 10,
     "metadata": {},
     "output_type": "execute_result"
    }
   ],
   "source": [
    "df.shape"
   ]
  },
  {
   "cell_type": "code",
   "execution_count": 11,
   "metadata": {
    "collapsed": true
   },
   "outputs": [],
   "source": [
    "df['project_time_years']=df['project_duration_days']/365"
   ]
  },
  {
   "cell_type": "code",
   "execution_count": 12,
   "metadata": {
    "collapsed": false
   },
   "outputs": [],
   "source": [
    "#Manual Data Cleaning for some fishy values based on top 5 shortest list above\n",
    "#df.loc[(df['address']=='55 05TH ST') & (new_df['apn']=='3705039'), 'units'] = 8 #looked up on PIM. Simple adding 8 units.\n",
    "#df.loc[(df['address']=='545 POST ST') & (new_df['apn']=='0306022'), 'units'] = 4 #looked up on PIM. Simple adding 4 units\n",
    "#df.loc[(df['address']=='555 POST ST') & (new_df['apn']=='0306020'), 'units'] = 17 #looked up on PIM. Simple adding 4 units\n",
    "#df.loc[(df['address']=='515 JOHN MUIR DR') & (new_df['apn']=='7282005'), 'units'] = 2 #looked up on PIM. Change of use to residential. 2 additional units\n",
    "\n",
    "#based on the above cases, unit count seems to be the unit count at the site at the end of \n",
    "#the project rather than the unit count of the project itself. Because of this, I will be adjust\n",
    "#unit counts that are more than the net units added to the net units added amount. If units net\n",
    "#is missing, just accept unit count as true for now.\n",
    "\n",
    "def unit_change(value):\n",
    "    return_val=value['units']\n",
    "    if pd.notnull(value['unitsnet']):\n",
    "        if value['unitsnet']<0:\n",
    "            return_val = value['units']\n",
    "        elif value['unitsnet']==0:\n",
    "            return_val = value['units']\n",
    "        elif value['unitsnet']<value['units']:\n",
    "            return_val = value['unitsnet']\n",
    "        else:\n",
    "            return_val=value['units']\n",
    "    return return_val\n",
    "\n",
    "df['units']=df.apply(unit_change, axis=1)\n",
    " "
   ]
  },
  {
   "cell_type": "markdown",
   "metadata": {},
   "source": [
    "# Merge in Geographic Information and Make Big Dataframe"
   ]
  },
  {
   "cell_type": "code",
   "execution_count": 13,
   "metadata": {
    "collapsed": true
   },
   "outputs": [],
   "source": [
    "#first, convert points to geodataframe\n",
    "crs = {'init' :'epsg:4326'}\n",
    "geometry = [Point(xy) for xy in zip(df.x, df.y)]\n",
    "devs = GeoDataFrame(df, crs=crs, geometry=geometry)\n",
    "devs = devs.to_crs({'init': 'epsg:4326'}) "
   ]
  },
  {
   "cell_type": "code",
   "execution_count": 14,
   "metadata": {
    "collapsed": true
   },
   "outputs": [],
   "source": [
    "#import neighborhoods\n",
    "neighborhoods = gpd.read_file('../../../data/gis/41_neighborhoods/41_neighborhoods.shp')"
   ]
  },
  {
   "cell_type": "code",
   "execution_count": 15,
   "metadata": {
    "collapsed": true
   },
   "outputs": [],
   "source": [
    "#convert boundaries to geographic coordinate system to conform to points\n",
    "neighborhoods = neighborhoods.to_crs({'init': 'epsg:4326'}) "
   ]
  },
  {
   "cell_type": "code",
   "execution_count": 16,
   "metadata": {
    "collapsed": false
   },
   "outputs": [
    {
     "data": {
      "text/plain": [
       "(2474, 32)"
      ]
     },
     "execution_count": 16,
     "metadata": {},
     "output_type": "execute_result"
    }
   ],
   "source": [
    "#First, spatial join between points and neighborhood boundaries. Set 'how' to 'left' to preserve all developments\n",
    "df = gpd.sjoin(devs, neighborhoods, how = 'inner', op='within')\n",
    "df.shape"
   ]
  },
  {
   "cell_type": "code",
   "execution_count": 17,
   "metadata": {
    "collapsed": false
   },
   "outputs": [
    {
     "data": {
      "text/plain": [
       "count    137.000000\n",
       "mean       6.255254\n",
       "std        3.453810\n",
       "min        0.750685\n",
       "25%        3.854795\n",
       "50%        5.945205\n",
       "75%        8.273973\n",
       "max       24.128767\n",
       "Name: project_time_years, dtype: float64"
      ]
     },
     "execution_count": 17,
     "metadata": {},
     "output_type": "execute_result"
    }
   ],
   "source": [
    "#Create Big Projects Dataframe\n",
    "df_big=df[df['units']>=10]\n",
    "df_big['project_time_years'].describe()"
   ]
  },
  {
   "cell_type": "code",
   "execution_count": 18,
   "metadata": {
    "collapsed": false
   },
   "outputs": [],
   "source": [
    "#in order to use as much data as possible, I am not keeping all data and just creating time vars where we can (i.e. where they are nonnull)\n",
    "def permit_time(value):\n",
    "    returnval=np.nan\n",
    "    if pd.notnull(value['BP_date']) & pd.notnull(value['first_date']):\n",
    "        returnval=((dateutil.parser.parse(value['BP_date']) - dateutil.parser.parse(value['first_date'])).days)/365\n",
    "    return returnval\n",
    "def bp_time(value):\n",
    "    returnval=np.nan\n",
    "    if pd.notnull(value['con_date']) & pd.notnull(value['BP_date']):\n",
    "        returnval=((dateutil.parser.parse(value['con_date']) - dateutil.parser.parse(value['BP_date'])).days)/365\n",
    "    return returnval\n",
    "def con_time(value):\n",
    "    returnval=np.nan\n",
    "    if pd.notnull(value['comp_date']) & pd.notnull(value['con_date']):\n",
    "        returnval=((dateutil.parser.parse(value['comp_date']) - dateutil.parser.parse(value['con_date'])).days)/365\n",
    "    return returnval\n",
    "    \n",
    "df['permit_time']=df.apply(permit_time, axis=1)\n",
    "df['bp_time']=df.apply(bp_time, axis=1)\n",
    "df['con_time']=df.apply(con_time, axis=1)"
   ]
  },
  {
   "cell_type": "code",
   "execution_count": 19,
   "metadata": {
    "collapsed": false
   },
   "outputs": [
    {
     "data": {
      "text/plain": [
       "(1147, 35)"
      ]
     },
     "execution_count": 19,
     "metadata": {},
     "output_type": "execute_result"
    }
   ],
   "source": [
    "#Final sample with at least one nonmissing piece of relevant information. leaving other observations in because they don't affect graphs anyway\n",
    "df[(pd.isnull(df['con_time'])) & (pd.isnull(df['permit_time'])) & (pd.isnull(df['bp_time'])) & (pd.isnull(df['project_time_years']))].shape"
   ]
  },
  {
   "cell_type": "code",
   "execution_count": 20,
   "metadata": {
    "collapsed": true
   },
   "outputs": [],
   "source": [
    "import statsmodels.formula.api as smf\n",
    "import numpy as np"
   ]
  },
  {
   "cell_type": "code",
   "execution_count": 21,
   "metadata": {
    "collapsed": false
   },
   "outputs": [
    {
     "data": {
      "text/html": [
       "<div>\n",
       "<table border=\"1\" class=\"dataframe\">\n",
       "  <thead>\n",
       "    <tr style=\"text-align: right;\">\n",
       "      <th></th>\n",
       "      <th>Unnamed: 0</th>\n",
       "      <th>BP_date</th>\n",
       "      <th>address</th>\n",
       "      <th>apn</th>\n",
       "      <th>best_date</th>\n",
       "      <th>best_stat</th>\n",
       "      <th>comp_date</th>\n",
       "      <th>con_date</th>\n",
       "      <th>dbi_permit</th>\n",
       "      <th>dropped_out</th>\n",
       "      <th>first_date</th>\n",
       "      <th>first_project_record_date</th>\n",
       "      <th>firstfiled</th>\n",
       "      <th>latest_project_record_date</th>\n",
       "      <th>latest_project_status</th>\n",
       "      <th>project_dates</th>\n",
       "      <th>project_duration_days</th>\n",
       "      <th>project_statuses</th>\n",
       "      <th>report_quarter</th>\n",
       "      <th>report_year</th>\n",
       "      <th>status</th>\n",
       "      <th>units</th>\n",
       "      <th>unitsnet</th>\n",
       "      <th>x</th>\n",
       "      <th>y</th>\n",
       "      <th>zoning</th>\n",
       "      <th>zoning_simplified</th>\n",
       "      <th>bp_duplicates</th>\n",
       "      <th>project_time_years</th>\n",
       "      <th>geometry</th>\n",
       "      <th>index_right</th>\n",
       "      <th>nhood</th>\n",
       "      <th>permit_time</th>\n",
       "      <th>bp_time</th>\n",
       "      <th>con_time</th>\n",
       "    </tr>\n",
       "  </thead>\n",
       "  <tbody>\n",
       "    <tr>\n",
       "      <th>685</th>\n",
       "      <td>0</td>\n",
       "      <td>NaN</td>\n",
       "      <td>758 JAMESTOWN AV</td>\n",
       "      <td>4974008</td>\n",
       "      <td>2016-12-28</td>\n",
       "      <td>BP FILED</td>\n",
       "      <td>NaN</td>\n",
       "      <td>NaN</td>\n",
       "      <td>201612286113</td>\n",
       "      <td>False</td>\n",
       "      <td>2016-12-28</td>\n",
       "      <td>2016-12-28</td>\n",
       "      <td>2016-12-28</td>\n",
       "      <td>2016-12-28</td>\n",
       "      <td>BP FILED</td>\n",
       "      <td>('2016-12-28', '2016-12-28', '2016-12-28')</td>\n",
       "      <td>NaN</td>\n",
       "      <td>('BP FILED', 'BP FILED', 'BP FILED')</td>\n",
       "      <td>2</td>\n",
       "      <td>2017</td>\n",
       "      <td>Proposed</td>\n",
       "      <td>3.0</td>\n",
       "      <td>3.0</td>\n",
       "      <td>-122.389442</td>\n",
       "      <td>37.715885</td>\n",
       "      <td>NaN</td>\n",
       "      <td>NaN</td>\n",
       "      <td>False</td>\n",
       "      <td>NaN</td>\n",
       "      <td>POINT (-122.3894424438 37.7158851624)</td>\n",
       "      <td>0</td>\n",
       "      <td>Bayview Hunters Point</td>\n",
       "      <td>NaN</td>\n",
       "      <td>NaN</td>\n",
       "      <td>NaN</td>\n",
       "    </tr>\n",
       "    <tr>\n",
       "      <th>308</th>\n",
       "      <td>0</td>\n",
       "      <td>NaN</td>\n",
       "      <td>750 JAMESTOWN AV</td>\n",
       "      <td>4976019</td>\n",
       "      <td>2009-04-16</td>\n",
       "      <td>CONSTRUCTION</td>\n",
       "      <td>01/01/2016</td>\n",
       "      <td>2009-04-16</td>\n",
       "      <td>200609071583</td>\n",
       "      <td>False</td>\n",
       "      <td>2006-09-07</td>\n",
       "      <td>2009-04-16</td>\n",
       "      <td>2006-09-07</td>\n",
       "      <td>2009-04-16</td>\n",
       "      <td>CONSTRUCTION</td>\n",
       "      <td>('2009-04-16', '2009-04-16', '2009-04-16', '20...</td>\n",
       "      <td>3403.0</td>\n",
       "      <td>('CONSTRUCTION', 'CONSTRUCTION', 'CONSTRUCTION...</td>\n",
       "      <td>4</td>\n",
       "      <td>2015</td>\n",
       "      <td>Under Construction</td>\n",
       "      <td>1.0</td>\n",
       "      <td>1.0</td>\n",
       "      <td>-122.389168</td>\n",
       "      <td>37.715620</td>\n",
       "      <td>RH-1</td>\n",
       "      <td>RH-1</td>\n",
       "      <td>False</td>\n",
       "      <td>9.323288</td>\n",
       "      <td>POINT (-122.389168389 37.7156197596)</td>\n",
       "      <td>0</td>\n",
       "      <td>Bayview Hunters Point</td>\n",
       "      <td>NaN</td>\n",
       "      <td>NaN</td>\n",
       "      <td>6.715068</td>\n",
       "    </tr>\n",
       "    <tr>\n",
       "      <th>2210</th>\n",
       "      <td>0</td>\n",
       "      <td>2008-02-08</td>\n",
       "      <td>1060 GILMAN AV</td>\n",
       "      <td>4937014</td>\n",
       "      <td>2010-11-04</td>\n",
       "      <td>BP REINSTATED</td>\n",
       "      <td>NaN</td>\n",
       "      <td>NaN</td>\n",
       "      <td>200610245911</td>\n",
       "      <td>True</td>\n",
       "      <td>2006-10-24</td>\n",
       "      <td>2008-02-08</td>\n",
       "      <td>2006-10-24</td>\n",
       "      <td>2010-11-04</td>\n",
       "      <td>BP REINSTATED</td>\n",
       "      <td>('2008-02-08', '2008-02-08', '2008-02-08', '20...</td>\n",
       "      <td>NaN</td>\n",
       "      <td>('BP ISSUED', 'BP ISSUED', 'BP ISSUED', 'BP IS...</td>\n",
       "      <td>1</td>\n",
       "      <td>2016</td>\n",
       "      <td>Building Permit Approved</td>\n",
       "      <td>1.0</td>\n",
       "      <td>1.0</td>\n",
       "      <td>-122.389150</td>\n",
       "      <td>37.719109</td>\n",
       "      <td>RH-1</td>\n",
       "      <td>RH-1</td>\n",
       "      <td>False</td>\n",
       "      <td>NaN</td>\n",
       "      <td>POINT (-122.38915 37.719108699)</td>\n",
       "      <td>0</td>\n",
       "      <td>Bayview Hunters Point</td>\n",
       "      <td>1.293151</td>\n",
       "      <td>NaN</td>\n",
       "      <td>NaN</td>\n",
       "    </tr>\n",
       "    <tr>\n",
       "      <th>1159</th>\n",
       "      <td>0</td>\n",
       "      <td>NaN</td>\n",
       "      <td>1212 EGBERT AV</td>\n",
       "      <td>4909003</td>\n",
       "      <td>2013-12-31</td>\n",
       "      <td>BP FILED</td>\n",
       "      <td>NaN</td>\n",
       "      <td>NaN</td>\n",
       "      <td>201312315375</td>\n",
       "      <td>False</td>\n",
       "      <td>2013-12-31</td>\n",
       "      <td>2013-12-31</td>\n",
       "      <td>2013-12-31</td>\n",
       "      <td>2013-12-31</td>\n",
       "      <td>BP FILED</td>\n",
       "      <td>('2013-12-31', '2013-12-31', '2013-12-31', '20...</td>\n",
       "      <td>NaN</td>\n",
       "      <td>('BP FILED', 'BP FILED', 'BP FILED', 'BP FILED...</td>\n",
       "      <td>2</td>\n",
       "      <td>2017</td>\n",
       "      <td>Proposed</td>\n",
       "      <td>2.0</td>\n",
       "      <td>2.0</td>\n",
       "      <td>-122.389008</td>\n",
       "      <td>37.720917</td>\n",
       "      <td>RH-1</td>\n",
       "      <td>RH-1</td>\n",
       "      <td>False</td>\n",
       "      <td>NaN</td>\n",
       "      <td>POINT (-122.3890075684 37.720916748)</td>\n",
       "      <td>0</td>\n",
       "      <td>Bayview Hunters Point</td>\n",
       "      <td>NaN</td>\n",
       "      <td>NaN</td>\n",
       "      <td>NaN</td>\n",
       "    </tr>\n",
       "    <tr>\n",
       "      <th>1126</th>\n",
       "      <td>0</td>\n",
       "      <td>NaN</td>\n",
       "      <td>4101 03RD ST</td>\n",
       "      <td>5260001</td>\n",
       "      <td>2014-05-14</td>\n",
       "      <td>PL FILED</td>\n",
       "      <td>NaN</td>\n",
       "      <td>NaN</td>\n",
       "      <td>NaN</td>\n",
       "      <td>False</td>\n",
       "      <td>2014-05-14</td>\n",
       "      <td>2014-05-14</td>\n",
       "      <td>2014-05-14</td>\n",
       "      <td>2014-05-14</td>\n",
       "      <td>PL FILED</td>\n",
       "      <td>('2014-05-14', '2014-05-14', '2014-05-14', '20...</td>\n",
       "      <td>NaN</td>\n",
       "      <td>('PL FILED', 'PL FILED', 'PL FILED', 'PL FILED...</td>\n",
       "      <td>2</td>\n",
       "      <td>2017</td>\n",
       "      <td>Proposed</td>\n",
       "      <td>32.0</td>\n",
       "      <td>32.0</td>\n",
       "      <td>-122.388649</td>\n",
       "      <td>37.739895</td>\n",
       "      <td>NaN</td>\n",
       "      <td>NaN</td>\n",
       "      <td>True</td>\n",
       "      <td>NaN</td>\n",
       "      <td>POINT (-122.3886489868 37.73989486690001)</td>\n",
       "      <td>0</td>\n",
       "      <td>Bayview Hunters Point</td>\n",
       "      <td>NaN</td>\n",
       "      <td>NaN</td>\n",
       "      <td>NaN</td>\n",
       "    </tr>\n",
       "  </tbody>\n",
       "</table>\n",
       "</div>"
      ],
      "text/plain": [
       "      Unnamed: 0     BP_date           address      apn   best_date  \\\n",
       "685            0         NaN  758 JAMESTOWN AV  4974008  2016-12-28   \n",
       "308            0         NaN  750 JAMESTOWN AV  4976019  2009-04-16   \n",
       "2210           0  2008-02-08    1060 GILMAN AV  4937014  2010-11-04   \n",
       "1159           0         NaN    1212 EGBERT AV  4909003  2013-12-31   \n",
       "1126           0         NaN      4101 03RD ST  5260001  2014-05-14   \n",
       "\n",
       "          best_stat   comp_date    con_date    dbi_permit dropped_out  \\\n",
       "685        BP FILED         NaN         NaN  201612286113       False   \n",
       "308    CONSTRUCTION  01/01/2016  2009-04-16  200609071583       False   \n",
       "2210  BP REINSTATED         NaN         NaN  200610245911        True   \n",
       "1159       BP FILED         NaN         NaN  201312315375       False   \n",
       "1126       PL FILED         NaN         NaN           NaN       False   \n",
       "\n",
       "      first_date first_project_record_date  firstfiled  \\\n",
       "685   2016-12-28                2016-12-28  2016-12-28   \n",
       "308   2006-09-07                2009-04-16  2006-09-07   \n",
       "2210  2006-10-24                2008-02-08  2006-10-24   \n",
       "1159  2013-12-31                2013-12-31  2013-12-31   \n",
       "1126  2014-05-14                2014-05-14  2014-05-14   \n",
       "\n",
       "     latest_project_record_date latest_project_status  \\\n",
       "685                  2016-12-28              BP FILED   \n",
       "308                  2009-04-16          CONSTRUCTION   \n",
       "2210                 2010-11-04         BP REINSTATED   \n",
       "1159                 2013-12-31              BP FILED   \n",
       "1126                 2014-05-14              PL FILED   \n",
       "\n",
       "                                          project_dates  \\\n",
       "685          ('2016-12-28', '2016-12-28', '2016-12-28')   \n",
       "308   ('2009-04-16', '2009-04-16', '2009-04-16', '20...   \n",
       "2210  ('2008-02-08', '2008-02-08', '2008-02-08', '20...   \n",
       "1159  ('2013-12-31', '2013-12-31', '2013-12-31', '20...   \n",
       "1126  ('2014-05-14', '2014-05-14', '2014-05-14', '20...   \n",
       "\n",
       "      project_duration_days  \\\n",
       "685                     NaN   \n",
       "308                  3403.0   \n",
       "2210                    NaN   \n",
       "1159                    NaN   \n",
       "1126                    NaN   \n",
       "\n",
       "                                       project_statuses  report_quarter  \\\n",
       "685                ('BP FILED', 'BP FILED', 'BP FILED')               2   \n",
       "308   ('CONSTRUCTION', 'CONSTRUCTION', 'CONSTRUCTION...               4   \n",
       "2210  ('BP ISSUED', 'BP ISSUED', 'BP ISSUED', 'BP IS...               1   \n",
       "1159  ('BP FILED', 'BP FILED', 'BP FILED', 'BP FILED...               2   \n",
       "1126  ('PL FILED', 'PL FILED', 'PL FILED', 'PL FILED...               2   \n",
       "\n",
       "      report_year                    status  units  unitsnet           x  \\\n",
       "685          2017                  Proposed    3.0       3.0 -122.389442   \n",
       "308          2015        Under Construction    1.0       1.0 -122.389168   \n",
       "2210         2016  Building Permit Approved    1.0       1.0 -122.389150   \n",
       "1159         2017                  Proposed    2.0       2.0 -122.389008   \n",
       "1126         2017                  Proposed   32.0      32.0 -122.388649   \n",
       "\n",
       "              y zoning zoning_simplified bp_duplicates  project_time_years  \\\n",
       "685   37.715885    NaN               NaN         False                 NaN   \n",
       "308   37.715620   RH-1              RH-1         False            9.323288   \n",
       "2210  37.719109   RH-1              RH-1         False                 NaN   \n",
       "1159  37.720917   RH-1              RH-1         False                 NaN   \n",
       "1126  37.739895    NaN               NaN          True                 NaN   \n",
       "\n",
       "                                       geometry  index_right  \\\n",
       "685       POINT (-122.3894424438 37.7158851624)            0   \n",
       "308        POINT (-122.389168389 37.7156197596)            0   \n",
       "2210            POINT (-122.38915 37.719108699)            0   \n",
       "1159       POINT (-122.3890075684 37.720916748)            0   \n",
       "1126  POINT (-122.3886489868 37.73989486690001)            0   \n",
       "\n",
       "                      nhood  permit_time  bp_time  con_time  \n",
       "685   Bayview Hunters Point          NaN      NaN       NaN  \n",
       "308   Bayview Hunters Point          NaN      NaN  6.715068  \n",
       "2210  Bayview Hunters Point     1.293151      NaN       NaN  \n",
       "1159  Bayview Hunters Point          NaN      NaN       NaN  \n",
       "1126  Bayview Hunters Point          NaN      NaN       NaN  "
      ]
     },
     "execution_count": 21,
     "metadata": {},
     "output_type": "execute_result"
    }
   ],
   "source": [
    "df.head()"
   ]
  },
  {
   "cell_type": "code",
   "execution_count": 23,
   "metadata": {
    "collapsed": false
   },
   "outputs": [
    {
     "name": "stdout",
     "output_type": "stream",
     "text": [
      "                            OLS Regression Results                            \n",
      "==============================================================================\n",
      "Dep. Variable:     project_time_years   R-squared:                       0.037\n",
      "Model:                            OLS   Adj. R-squared:                  0.035\n",
      "Method:                 Least Squares   F-statistic:                     27.45\n",
      "Date:                Sat, 09 Dec 2017   Prob (F-statistic):           2.12e-07\n",
      "Time:                        22:12:35   Log-Likelihood:                -1813.7\n",
      "No. Observations:                 721   AIC:                             3631.\n",
      "Df Residuals:                     719   BIC:                             3641.\n",
      "Df Model:                           1                                         \n",
      "Covariance Type:            nonrobust                                         \n",
      "==============================================================================\n",
      "                 coef    std err          t      P>|t|      [95.0% Conf. Int.]\n",
      "------------------------------------------------------------------------------\n",
      "Intercept      4.2339      0.118     36.018      0.000         4.003     4.465\n",
      "units          0.0111      0.002      5.240      0.000         0.007     0.015\n",
      "==============================================================================\n",
      "Omnibus:                      170.357   Durbin-Watson:                   1.762\n",
      "Prob(Omnibus):                  0.000   Jarque-Bera (JB):              397.358\n",
      "Skew:                           1.248   Prob(JB):                     5.19e-87\n",
      "Kurtosis:                       5.646   Cond. No.                         58.2\n",
      "==============================================================================\n",
      "\n",
      "Warnings:\n",
      "[1] Standard Errors assume that the covariance matrix of the errors is correctly specified.\n"
     ]
    }
   ],
   "source": [
    "mod = smf.ols(formula='project_time_years ~ units', data=df)\n",
    "res = mod.fit()\n",
    "print(res.summary())"
   ]
  },
  {
   "cell_type": "code",
   "execution_count": null,
   "metadata": {
    "collapsed": true
   },
   "outputs": [],
   "source": []
  }
 ],
 "metadata": {
  "anaconda-cloud": {},
  "kernelspec": {
   "display_name": "Python [Root]",
   "language": "python",
   "name": "Python [Root]"
  },
  "language_info": {
   "codemirror_mode": {
    "name": "ipython",
    "version": 3
   },
   "file_extension": ".py",
   "mimetype": "text/x-python",
   "name": "python",
   "nbconvert_exporter": "python",
   "pygments_lexer": "ipython3",
   "version": "3.5.2"
  }
 },
 "nbformat": 4,
 "nbformat_minor": 0
}
