{
 "cells": [
  {
   "cell_type": "markdown",
   "metadata": {},
   "source": [
    "# Analysis from Brian Goggin (uses newly-produced data as of September 2017)"
   ]
  },
  {
   "cell_type": "code",
   "execution_count": null,
   "metadata": {
    "collapsed": true
   },
   "outputs": [],
   "source": [
    "import pandas as pd\n",
    "import logging\n",
    "import dateutil\n",
    "from dateutil import parser\n",
    "import numpy as np\n",
    "import matplotlib.pyplot as plt\n",
    "import geopandas as gpd\n",
    "from geopandas import GeoDataFrame\n",
    "from shapely.geometry import Point\n",
    "%matplotlib inline\n",
    "pd.set_option('display.max_columns', 500)"
   ]
  },
  {
   "cell_type": "code",
   "execution_count": null,
   "metadata": {
    "collapsed": false
   },
   "outputs": [],
   "source": [
    "#import dataset of project times from \"data\" folder\n",
    "file = \"../../../data/cleaned/all_quarters__one_record_per_project.csv\"\n",
    "output=\"../../Output/\"\n",
    "df = pd.read_csv(file)"
   ]
  },
  {
   "cell_type": "markdown",
   "metadata": {},
   "source": [
    "# Initial Data Cleaning"
   ]
  },
  {
   "cell_type": "code",
   "execution_count": null,
   "metadata": {
    "collapsed": true
   },
   "outputs": [],
   "source": [
    "#First, filter out those projects that are exclusively non-residential (defined as those without units)\n",
    "df = df[df['units'] > 0]"
   ]
  },
  {
   "cell_type": "code",
   "execution_count": null,
   "metadata": {
    "collapsed": true
   },
   "outputs": [],
   "source": [
    "#Next, keep only those that reached completion at some point over the time period\n",
    "df=df[pd.notnull(df['comp_date'])]"
   ]
  },
  {
   "cell_type": "code",
   "execution_count": null,
   "metadata": {
    "collapsed": false
   },
   "outputs": [],
   "source": [
    "df.shape"
   ]
  },
  {
   "cell_type": "code",
   "execution_count": null,
   "metadata": {
    "collapsed": false
   },
   "outputs": [],
   "source": [
    "df=df[pd.notnull(df['firstfiled'])]\n",
    "df=df[df['firstfiled'] !='']"
   ]
  },
  {
   "cell_type": "code",
   "execution_count": null,
   "metadata": {
    "collapsed": false
   },
   "outputs": [],
   "source": [
    "df.shape"
   ]
  },
  {
   "cell_type": "code",
   "execution_count": null,
   "metadata": {
    "collapsed": false
   },
   "outputs": [],
   "source": [
    "#drop duplicates for now, until manual cleaning is done\n",
    "df= df[~ df.duplicated('dbi_permit', keep=False)]"
   ]
  },
  {
   "cell_type": "code",
   "execution_count": null,
   "metadata": {
    "collapsed": false
   },
   "outputs": [],
   "source": [
    "df.shape"
   ]
  },
  {
   "cell_type": "code",
   "execution_count": null,
   "metadata": {
    "collapsed": true
   },
   "outputs": [],
   "source": [
    "df['project_time_years']=df['project_duration_days']/365"
   ]
  },
  {
   "cell_type": "code",
   "execution_count": null,
   "metadata": {
    "collapsed": false
   },
   "outputs": [],
   "source": [
    "# Top 5 longest projects\n",
    "df.sort_values('project_time_years', ascending = False)[0:5]"
   ]
  },
  {
   "cell_type": "code",
   "execution_count": null,
   "metadata": {
    "collapsed": false
   },
   "outputs": [],
   "source": [
    "# Top 5 shortest projects\n",
    "df.sort_values('project_time_years', ascending = True)[0:5]"
   ]
  },
  {
   "cell_type": "code",
   "execution_count": null,
   "metadata": {
    "collapsed": false
   },
   "outputs": [],
   "source": [
    "#Manual Data Cleaning for some fishy values based on top 5 shortest list above\n",
    "#df.loc[(df['address']=='55 05TH ST') & (new_df['apn']=='3705039'), 'units'] = 8 #looked up on PIM. Simple adding 8 units.\n",
    "#df.loc[(df['address']=='545 POST ST') & (new_df['apn']=='0306022'), 'units'] = 4 #looked up on PIM. Simple adding 4 units\n",
    "#df.loc[(df['address']=='555 POST ST') & (new_df['apn']=='0306020'), 'units'] = 17 #looked up on PIM. Simple adding 4 units\n",
    "#df.loc[(df['address']=='515 JOHN MUIR DR') & (new_df['apn']=='7282005'), 'units'] = 2 #looked up on PIM. Change of use to residential. 2 additional units\n",
    "\n",
    "#based on the above cases, unit count seems to be the unit count at the site at the end of \n",
    "#the project rather than the unit count of the project itself. Because of this, I will be adjust\n",
    "#unit counts that are more than the net units added to the net units added amount. If units net\n",
    "#is missing, just accept unit count as true for now.\n",
    "\n",
    "def unit_change(value):\n",
    "    return_val=value['units']\n",
    "    if pd.notnull(value['unitsnet']):\n",
    "        if value['unitsnet']<0:\n",
    "            return_val = value['units']\n",
    "        elif value['unitsnet']==0:\n",
    "            return_val = value['units']\n",
    "        elif value['unitsnet']<value['units']:\n",
    "            return_val = value['unitsnet']\n",
    "        else:\n",
    "            return_val=value['units']\n",
    "    return return_val\n",
    "\n",
    "df['units']=df.apply(unit_change, axis=1)\n",
    " "
   ]
  },
  {
   "cell_type": "code",
   "execution_count": null,
   "metadata": {
    "collapsed": false
   },
   "outputs": [],
   "source": [
    "#Create Big Projects Dataframe\n",
    "df_big=df[df['units']>=10]\n",
    "df_big['project_time_years'].describe()"
   ]
  },
  {
   "cell_type": "code",
   "execution_count": null,
   "metadata": {
    "collapsed": false
   },
   "outputs": [],
   "source": [
    "df['project_time_years'].describe()"
   ]
  },
  {
   "cell_type": "markdown",
   "metadata": {},
   "source": [
    "# Merge in Geographic Information and Make Big Dataframe"
   ]
  },
  {
   "cell_type": "code",
   "execution_count": null,
   "metadata": {
    "collapsed": true
   },
   "outputs": [],
   "source": [
    "#first, convert points to geodataframe\n",
    "crs = {'init' :'epsg:4326'}\n",
    "geometry = [Point(xy) for xy in zip(df.x, df.y)]\n",
    "devs = GeoDataFrame(df, crs=crs, geometry=geometry)\n",
    "devs = devs.to_crs({'init': 'epsg:4326'}) "
   ]
  },
  {
   "cell_type": "code",
   "execution_count": null,
   "metadata": {
    "collapsed": true
   },
   "outputs": [],
   "source": [
    "#import neighborhoods\n",
    "neighborhoods = gpd.read_file('../../../data/gis/41_neighborhoods/41_neighborhoods.shp')"
   ]
  },
  {
   "cell_type": "code",
   "execution_count": null,
   "metadata": {
    "collapsed": true
   },
   "outputs": [],
   "source": [
    "#convert boundaries to geographic coordinate system to conform to points\n",
    "neighborhoods = neighborhoods.to_crs({'init': 'epsg:4326'}) "
   ]
  },
  {
   "cell_type": "code",
   "execution_count": null,
   "metadata": {
    "collapsed": false
   },
   "outputs": [],
   "source": [
    "#First, spatial join between points and neighborhood boundaries. Set 'how' to 'left' to preserve all developments\n",
    "df = gpd.sjoin(devs, neighborhoods, how = 'inner', op='within')\n",
    "df.shape"
   ]
  },
  {
   "cell_type": "code",
   "execution_count": null,
   "metadata": {
    "collapsed": false
   },
   "outputs": [],
   "source": [
    "#Create Big Projects Dataframe\n",
    "df_big=df[df['units']>=10]\n",
    "df_big['project_time_years'].describe()"
   ]
  },
  {
   "cell_type": "code",
   "execution_count": null,
   "metadata": {
    "collapsed": false
   },
   "outputs": [],
   "source": [
    "# Top 5 shortest projects of big projects\n",
    "df_big.sort_values('project_time_years', ascending = True)[0:5]"
   ]
  },
  {
   "cell_type": "markdown",
   "metadata": {},
   "source": [
    "# Zoning Exploration"
   ]
  },
  {
   "cell_type": "code",
   "execution_count": null,
   "metadata": {
    "collapsed": false
   },
   "outputs": [],
   "source": [
    "df['zoning_simplified'].value_counts()\n",
    "\n",
    "conv_res = ['RH-1(D)', 'RH-1', 'RH-1(S)', 'RH-2', 'RH-3']\n",
    "apt_res=['RM-1', 'RM-2', 'RM-3', 'RM-4']\n",
    "mixed_res=['RC-3', 'RC-4', 'RED', 'RTO', 'RC-4']\n",
    "nhb_comm=['NC-1', 'NC-2', 'NC-3', 'NC-S', 'NCD', 'NCT'] #NCD and NCT encompass all types of NCD, NCTs\n",
    "comm=['C-2', 'C-3', 'C-M']\n",
    "indus=['M-1', 'M-2']\n",
    "other=[]\n",
    "\n",
    "def zoning_simple(value):\n",
    "    zone_class='Other'\n",
    "    for item in conv_res:\n",
    "        if value['zoning'].find(item)>=0:\n",
    "            zone_class= 'Conventional Residential'\n",
    "    for item in apt_res:\n",
    "        if value['zoning'].find(item)>=0: \n",
    "            zone_class= 'Apartment Residential'\n",
    "    for item in mixed_res:\n",
    "        if value['zoning'].find(item)>=0: \n",
    "            zone_class= 'Mixed Residential'\n",
    "    for item in nhb_comm:\n",
    "        if value['zoning'].find(item)>=0: \n",
    "            zone_class= 'Nhb Commercial'\n",
    "    for item in comm:\n",
    "        if value['zoning'].find(item)>=0: \n",
    "            zone_class= 'Standard Commercial'\n",
    "    for item in indus:\n",
    "        if value['zoning'].find(item)>=0: \n",
    "            zone_class= 'Industrial'\n",
    "    return zone_class\n",
    "\n",
    "df['zone_class']=df.apply(zoning_simple, axis=1)\n"
   ]
  },
  {
   "cell_type": "code",
   "execution_count": null,
   "metadata": {
    "collapsed": false
   },
   "outputs": [],
   "source": [
    "df['zone_class'].value_counts()"
   ]
  },
  {
   "cell_type": "code",
   "execution_count": null,
   "metadata": {
    "collapsed": true
   },
   "outputs": [],
   "source": [
    "def bar_graph(var_x,var_y, title, x_label, y_label, df=df, sortedvar=False, graph_options=['red', (8, 6)]):\n",
    "    \"\"\"\n",
    "    Function to make bar graphs by subgroup for median time to completion.\n",
    "    \"\"\"\n",
    "    medians=[]\n",
    "    value_names=df[var_x].value_counts(sort=False).index\n",
    "    if sortedvar==True:\n",
    "        value_names=sorted(value_names, key=lambda x: df[df[var_x]==x][var_y].median())\n",
    "    for i in value_names:\n",
    "        median = df[df[var_x]==i][var_y].median()\n",
    "        medians.append(median)\n",
    "        \n",
    "    y_pos = np.arange(len(df[var_x].value_counts(sort=False).index))\n",
    "    categories=[]\n",
    "    for cat in value_names:\n",
    "        categories.append(cat)\n",
    "        \n",
    "    fig, ax = plt.subplots(figsize=graph_options[1])\n",
    "    plt.title(title, fontsize=20)\n",
    "    ax.bar(y_pos, medians, align='center', alpha=0.5, color = graph_options[0])\n",
    "    ax.set_xticks(y_pos)\n",
    "    ax.set_xticklabels(categories, rotation=45)\n",
    "    ax.set_xlabel(x_label, fontsize=20)\n",
    "    ax.set_ylabel(y_label, fontsize=20)\n",
    "    for tick in ax.xaxis.get_majorticklabels():\n",
    "        tick.set_horizontalalignment(\"right\")\n",
    "    plt.tick_params(axis='both', which='major', labelsize=14)\n",
    "    plt.show()\n"
   ]
  },
  {
   "cell_type": "code",
   "execution_count": null,
   "metadata": {
    "collapsed": false
   },
   "outputs": [],
   "source": [
    "bar_graph('zone_class','project_time_years', 'Time to Completion by Zoning Category','Zoning Class', 'Median Development Time (Years)')"
   ]
  },
  {
   "cell_type": "markdown",
   "metadata": {},
   "source": [
    "# Project Times by Years"
   ]
  },
  {
   "cell_type": "code",
   "execution_count": null,
   "metadata": {
    "collapsed": true
   },
   "outputs": [],
   "source": [
    "df['year_start']=df['first_date'].str[0:4].astype(int)"
   ]
  },
  {
   "cell_type": "code",
   "execution_count": null,
   "metadata": {
    "collapsed": false
   },
   "outputs": [],
   "source": [
    "year_medians=[]\n",
    "for i in df['year_start'].value_counts(sort=False).index:\n",
    "    median = df[df['year_start']==i]['project_time_years'].median()\n",
    "    year_medians.append(median)"
   ]
  },
  {
   "cell_type": "code",
   "execution_count": null,
   "metadata": {
    "collapsed": true
   },
   "outputs": [],
   "source": [
    "y_pos = np.arange(len(df['year_start'].value_counts(sort=False).index))"
   ]
  },
  {
   "cell_type": "code",
   "execution_count": null,
   "metadata": {
    "collapsed": false
   },
   "outputs": [],
   "source": [
    "categories=[]\n",
    "for cat in df['year_start'].value_counts(sort=False).index:\n",
    "    categories.append(cat)"
   ]
  },
  {
   "cell_type": "code",
   "execution_count": null,
   "metadata": {
    "collapsed": false,
    "scrolled": true
   },
   "outputs": [],
   "source": [
    "bar_graph('year_start','project_time_years', 'Time to Completion by Year Started','Year Started', 'Median Development Time (Years)')"
   ]
  },
  {
   "cell_type": "markdown",
   "metadata": {},
   "source": [
    "# Figure 1. Histograms"
   ]
  },
  {
   "cell_type": "code",
   "execution_count": null,
   "metadata": {
    "collapsed": false
   },
   "outputs": [],
   "source": [
    "plt.figure(1, figsize=(8,6), )\n",
    "plt.suptitle('Figure 1. SF Housing Development Times', fontsize=20)\n",
    "plt.xlabel('Development Time (Years)', fontsize = 20)\n",
    "plt.ylabel('Number of Developments', fontsize = 20)\n",
    "plt.xticks(fontsize = 14)\n",
    "plt.yticks(fontsize = 14)\n",
    "ax = plt.hist(df['project_time_years'], bins=25, alpha=.6, color='g')\n",
    "plt.savefig(output+'hitogram.png')\n",
    "plt.show()"
   ]
  },
  {
   "cell_type": "code",
   "execution_count": null,
   "metadata": {
    "collapsed": false
   },
   "outputs": [],
   "source": [
    "plt.figure(1, figsize=(8,6), )\n",
    "plt.suptitle('SF Housing Development Times: Big Projects', fontsize=20)\n",
    "plt.xlabel('Development Time (Years)', fontsize = 20)\n",
    "plt.ylabel('Number of Developments', fontsize = 20)\n",
    "plt.xticks(fontsize = 14)\n",
    "plt.yticks(fontsize = 14)\n",
    "ax = plt.hist(df_big['project_time_years'], bins=25, alpha=.6, color='g')\n",
    "plt.show()"
   ]
  },
  {
   "cell_type": "markdown",
   "metadata": {},
   "source": [
    "# Figure 2. Years Per Unit Histogram"
   ]
  },
  {
   "cell_type": "code",
   "execution_count": null,
   "metadata": {
    "collapsed": false
   },
   "outputs": [],
   "source": [
    "# Project review time, normalized by amount of units\n",
    "#create unit-year category so that we normalize by units when comparing geographies\n",
    "df['years_per_unit']=df['project_time_years']/df['units']"
   ]
  },
  {
   "cell_type": "code",
   "execution_count": null,
   "metadata": {
    "collapsed": false,
    "scrolled": true
   },
   "outputs": [],
   "source": [
    "df['years_per_unit'].describe()"
   ]
  },
  {
   "cell_type": "code",
   "execution_count": null,
   "metadata": {
    "collapsed": false
   },
   "outputs": [],
   "source": [
    "df.sort_values('years_per_unit', ascending = False)[0:5]"
   ]
  },
  {
   "cell_type": "code",
   "execution_count": null,
   "metadata": {
    "collapsed": false
   },
   "outputs": [],
   "source": [
    "plt.figure(1, figsize=(8,6), )\n",
    "plt.suptitle('Figure 2. SF Housing Development Times', fontsize=20)\n",
    "plt.xlabel('Years per Unit Added', fontsize=20)\n",
    "plt.ylabel('Number of Developments', fontsize=20)\n",
    "plt.xticks(fontsize = 14)\n",
    "plt.yticks(fontsize = 14)\n",
    "ax = plt.hist(df['years_per_unit'], bins=25, alpha=.6, color='g')\n",
    "plt.savefig(output+'hitogram_yearunits.png')\n",
    "plt.show()"
   ]
  },
  {
   "cell_type": "code",
   "execution_count": null,
   "metadata": {
    "collapsed": false
   },
   "outputs": [],
   "source": [
    "#Create dataset units added by years for each unit\n",
    "list = []\n",
    "uniqueid = 0\n",
    "for index, row in df.iterrows():\n",
    "    amount = int(row['units'])\n",
    "    for units in range(0, amount):\n",
    "        dictionary = {}\n",
    "        dictionary['id']=uniqueid+1\n",
    "        dictionary['time']=row['project_time_years']\n",
    "        list.append(dictionary)\n",
    "        uniqueid=uniqueid+1\n",
    "df_units = pd.DataFrame(list)\n",
    "\n",
    "plt.figure(1, figsize=(10,10), )\n",
    "plt.suptitle('SF Housing Development Times', fontsize=20)\n",
    "plt.xlabel('Review Time (Years)', fontsize = 20)\n",
    "plt.ylabel('Number of Units Added', fontsize = 20)\n",
    "ax = plt.hist(df_units['time'], bins=25, alpha=.6, color='g')\n",
    "plt.savefig(output+'hitogram_units.png')\n",
    "plt.show()"
   ]
  },
  {
   "cell_type": "code",
   "execution_count": null,
   "metadata": {
    "collapsed": false
   },
   "outputs": [],
   "source": [
    "df_units['time'].describe()"
   ]
  },
  {
   "cell_type": "markdown",
   "metadata": {},
   "source": [
    "# Figure 4. Scatter Plots"
   ]
  },
  {
   "cell_type": "code",
   "execution_count": null,
   "metadata": {
    "collapsed": false
   },
   "outputs": [],
   "source": [
    "plt.figure(1, figsize=(10,10))\n",
    "plt.scatter(df['units'], df['project_time_years'], s=100)\n",
    "plt.suptitle('Figure 4. Development Time by Units Added', fontsize=20)\n",
    "plt.ylabel('Development Time (Years)', fontsize = 18)\n",
    "plt.xlabel('Number of Units Added', fontsize = 18)\n",
    "plt.xticks(fontsize=14)\n",
    "plt.yticks(fontsize = 14)\n",
    "plt.xlim([0,800])\n",
    "plt.ylim([0,25])\n",
    "plt.savefig(output+'scatter.png')"
   ]
  },
  {
   "cell_type": "code",
   "execution_count": null,
   "metadata": {
    "collapsed": false
   },
   "outputs": [],
   "source": [
    "plt.figure(1, figsize=(10,10))\n",
    "plt.scatter(df_big['units'], df_big['project_time_years'], s=100)\n",
    "plt.suptitle('Development Time by Units Added: Big Projects', fontsize=20)\n",
    "plt.ylabel('Development Time (Years)', fontsize = 18)\n",
    "plt.xlabel('Number of Units Added', fontsize = 18)\n",
    "plt.xticks(fontsize=14)\n",
    "plt.yticks(fontsize = 14)\n",
    "plt.xlim([0,800])\n",
    "plt.ylim([0,25])"
   ]
  },
  {
   "cell_type": "markdown",
   "metadata": {},
   "source": [
    "# Figure 5. Plot by unit category"
   ]
  },
  {
   "cell_type": "code",
   "execution_count": null,
   "metadata": {
    "collapsed": false
   },
   "outputs": [],
   "source": [
    "unit_cutoffs=[10, 50, 100, 200]\n",
    "def unit_categories(value):\n",
    "    if value['units'] <unit_cutoffs[0]:\n",
    "        field = '0'+'-'+str(unit_cutoffs[0])\n",
    "    elif (value['units'] >=unit_cutoffs[0]) & (value['units'] <unit_cutoffs[1]):\n",
    "        field = str(unit_cutoffs[0])+'-'+str(unit_cutoffs[1])\n",
    "    elif (value['units']>= unit_cutoffs[1]) & (value['units'] <unit_cutoffs[2]):\n",
    "        field = str(unit_cutoffs[1])+'-'+str(unit_cutoffs[2])\n",
    "    elif (value['units']>= unit_cutoffs[2]) & (value['units'] <200):\n",
    "        field = str(unit_cutoffs[2])+'-'+str(unit_cutoffs[3])\n",
    "    elif value['units']>=200:\n",
    "        field = '>'+str(unit_cutoffs[3])\n",
    "    return field\n",
    "    \n",
    "df['unitcat']=df.apply(unit_categories, axis=1)\n",
    "df_big['unitcat']=df_big.apply(unit_categories, axis=1)"
   ]
  },
  {
   "cell_type": "code",
   "execution_count": null,
   "metadata": {
    "collapsed": false
   },
   "outputs": [],
   "source": [
    "df['unitcat'].value_counts()"
   ]
  },
  {
   "cell_type": "code",
   "execution_count": null,
   "metadata": {
    "collapsed": false
   },
   "outputs": [],
   "source": [
    "cat_medians=[]\n",
    "categories=['0-10', '10-50', '50-100', '100-200', '>200']\n",
    "for cat in categories:\n",
    "    median = df[df['unitcat']==cat]['project_time_years'].median()\n",
    "    cat_medians.append(median)\n",
    "objects = df['unitcat'].unique()\n",
    "y_pos = np.arange(len(objects))\n",
    "\n",
    "plt.figure(1, figsize=(8,6), )\n",
    "plt.suptitle('Figure 5. Development Time by Size Category', fontsize=20)\n",
    "plt.ylabel('Median Development Time (Years)', fontsize=20)\n",
    "plt.xlabel('Units Added', fontsize=20)\n",
    "plt.bar(y_pos, cat_medians, align='center', alpha=0.5)\n",
    "plt.xticks(y_pos, categories, fontsize=14)\n",
    "plt.yticks(fontsize = 14)\n",
    "plt.savefig(output+'bar_chart_times.png')\n",
    "plt.show()"
   ]
  },
  {
   "cell_type": "markdown",
   "metadata": {
    "collapsed": true
   },
   "source": [
    "# Figures 3 and 6. Breakdown time by stage of process"
   ]
  },
  {
   "cell_type": "code",
   "execution_count": null,
   "metadata": {
    "collapsed": false
   },
   "outputs": [],
   "source": [
    "df = df[pd.notnull(df['BP_date'])]"
   ]
  },
  {
   "cell_type": "code",
   "execution_count": null,
   "metadata": {
    "collapsed": false
   },
   "outputs": [],
   "source": [
    "df.shape"
   ]
  },
  {
   "cell_type": "code",
   "execution_count": null,
   "metadata": {
    "collapsed": true
   },
   "outputs": [],
   "source": [
    "df = df[pd.notnull(df['con_date'])]"
   ]
  },
  {
   "cell_type": "code",
   "execution_count": null,
   "metadata": {
    "collapsed": false
   },
   "outputs": [],
   "source": [
    "df.shape"
   ]
  },
  {
   "cell_type": "code",
   "execution_count": null,
   "metadata": {
    "collapsed": true
   },
   "outputs": [],
   "source": [
    "df['permit_time']=df.apply(lambda x: ((dateutil.parser.parse(x['BP_date']) - dateutil.parser.parse(x['first_date'])).days)/365, axis=1)\n",
    "df['bp_time']=df.apply(lambda x: ((dateutil.parser.parse(x['con_date']) - dateutil.parser.parse(x['BP_date'])).days)/365, axis=1)\n",
    "df['con_time']=df.apply(lambda x: ((dateutil.parser.parse(x['comp_date']) - dateutil.parser.parse(x['con_date'])).days)/365, axis=1)"
   ]
  },
  {
   "cell_type": "code",
   "execution_count": null,
   "metadata": {
    "collapsed": false
   },
   "outputs": [],
   "source": [
    "df['bp_time'].describe()"
   ]
  },
  {
   "cell_type": "code",
   "execution_count": null,
   "metadata": {
    "collapsed": false
   },
   "outputs": [],
   "source": [
    "df['con_time'].describe()"
   ]
  },
  {
   "cell_type": "code",
   "execution_count": null,
   "metadata": {
    "collapsed": false
   },
   "outputs": [],
   "source": [
    "df['project_time_years'].describe()"
   ]
  },
  {
   "cell_type": "code",
   "execution_count": null,
   "metadata": {
    "collapsed": false
   },
   "outputs": [],
   "source": [
    "plt.figure(1, figsize=(16,14), )\n",
    "plt.suptitle(\"Figure 3. SF Development Times by Stage\", fontsize=24)\n",
    "\n",
    "ax = plt.subplot(221)\n",
    "ax.set_title(\"Entitlement Time\", fontsize=18)\n",
    "ax.set_xlabel('Time in Years', fontsize=18)\n",
    "ax.set_ylabel('Number of Developments', fontsize=18)\n",
    "plt.xlim([0,14])\n",
    "plt.ylim([0,80])\n",
    "plt.xticks(fontsize = 16)\n",
    "plt.yticks(fontsize = 16)\n",
    "ax.hist(df['permit_time'], bins=50, color='b')\n",
    "\n",
    "ax = plt.subplot(222)\n",
    "ax.set_title(\"Construction Prep Time\", fontsize=18)\n",
    "ax.set_xlabel('Time in Years', fontsize=18)\n",
    "ax.set_ylabel('Number of Developments', fontsize=18)\n",
    "plt.xlim([0,14])\n",
    "plt.ylim([0,80])\n",
    "plt.xticks(fontsize = 16)\n",
    "plt.yticks(fontsize = 16)\n",
    "ax.hist(df['bp_time'], bins=50, color='r')\n",
    "\n",
    "ax = plt.subplot(223)\n",
    "ax.set_title(\"Construction Time\", fontsize=18)\n",
    "ax.set_xlabel('Time in Years', fontsize=18)\n",
    "ax.set_ylabel('Number of Developments', fontsize=18)\n",
    "plt.xlim([0,14])\n",
    "plt.ylim([0,80])\n",
    "plt.xticks(fontsize = 16)\n",
    "plt.yticks(fontsize = 16)\n",
    "ax.hist(df['con_time'], bins=50, color='g')\n",
    "\n",
    "plt.savefig(output+'big_hist.png')"
   ]
  },
  {
   "cell_type": "code",
   "execution_count": null,
   "metadata": {
    "collapsed": false
   },
   "outputs": [],
   "source": [
    "ent_medians=[]\n",
    "bp_medians=[]\n",
    "cons_medians=[]\n",
    "categories=['0-10', '10-50', '50-100', '100-200', '>200']\n",
    "for cat in categories:\n",
    "    median1 = df[df['unitcat']==cat]['permit_time'].median()\n",
    "    median2 = df[df['unitcat']==cat]['bp_time'].median()\n",
    "    median3 = df[df['unitcat']==cat]['con_time'].median()\n",
    "    ent_medians.append(median1)\n",
    "    bp_medians.append(median2)\n",
    "    cons_medians.append(median3)\n",
    "objects = df['unitcat'].unique()\n",
    "y_pos = np.arange(len(objects))"
   ]
  },
  {
   "cell_type": "code",
   "execution_count": null,
   "metadata": {
    "collapsed": false
   },
   "outputs": [],
   "source": [
    "plt.figure(1, figsize=(16,14), )\n",
    "plt.suptitle(\"Figure 6. Development Stages by Size Category\", fontsize=24)\n",
    "\n",
    "ax = plt.subplot(221)\n",
    "ax.set_title('Median Entitlement Time', fontsize=18)\n",
    "ax.set_xlabel('Number of Units', fontsize=18)\n",
    "ax.set_ylabel('Years', fontsize=18)\n",
    "ax.set_xticks(y_pos)\n",
    "ax.set_xticklabels(categories)\n",
    "ax.set_ylim([0,4])\n",
    "ax.bar(y_pos, ent_medians, align='center', color='b')\n",
    "\n",
    "ax = plt.subplot(222)\n",
    "ax.set_title('Median Construction Prep Time', fontsize=18)\n",
    "ax.set_xlabel('Number of Units', fontsize=18)\n",
    "ax.set_ylabel('Years', fontsize=18)\n",
    "ax.set_xticks(y_pos)\n",
    "ax.set_xticklabels(categories)\n",
    "ax.set_ylim([0,4])\n",
    "ax.bar(y_pos, bp_medians, align='center', color='r')\n",
    "\n",
    "ax = plt.subplot(223)\n",
    "ax.set_title('Median Construction  Time', fontsize=18)\n",
    "ax.set_xlabel('Number of Units', fontsize=18)\n",
    "ax.set_ylabel('Years', fontsize=18)\n",
    "ax.set_xticks(y_pos)\n",
    "ax.set_xticklabels(categories)\n",
    "ax.set_ylim([0,4])\n",
    "ax.bar(y_pos, cons_medians, align='center', color='g')\n",
    "\n",
    "plt.savefig(output+'big_bar.png')"
   ]
  },
  {
   "cell_type": "markdown",
   "metadata": {},
   "source": [
    "# Figures 7 and 8. Create Neighborhood Graphs"
   ]
  },
  {
   "cell_type": "code",
   "execution_count": null,
   "metadata": {
    "collapsed": true
   },
   "outputs": [],
   "source": [
    "#create separate geodataframe for just those with all dates\n",
    "df_nb_full = df[pd.notnull(df['BP_date'])]"
   ]
  },
  {
   "cell_type": "code",
   "execution_count": null,
   "metadata": {
    "collapsed": false
   },
   "outputs": [],
   "source": [
    "# for these graphs, drop if neighborhood has sample less than 10\n",
    "for nhood in df_nb_full['nhood'].value_counts().index:\n",
    "    if df_nb_full[df_nb_full['nhood']==nhood]['BP_date'].count() <10:\n",
    "        df_nb_full=df_nb_full[df_nb_full['nhood']!=nhood]"
   ]
  },
  {
   "cell_type": "code",
   "execution_count": null,
   "metadata": {
    "collapsed": false
   },
   "outputs": [],
   "source": [
    "df_nb_full['ptime_unityears']=df_nb_full['permit_time']/df_nb_full['units']"
   ]
  },
  {
   "cell_type": "code",
   "execution_count": null,
   "metadata": {
    "collapsed": false
   },
   "outputs": [],
   "source": [
    "graph_options=['b', (12, 8)]\n",
    "bar_graph('nhood','years_per_unit', 'Figure 7. SF Development Times by Neighborhood', 'Neighborhood', 'Median Development Time (Years per Unit)', df_nb_full, True, graph_options)"
   ]
  },
  {
   "cell_type": "code",
   "execution_count": null,
   "metadata": {
    "collapsed": false
   },
   "outputs": [],
   "source": [
    "graph_options=['r', (12, 8)]\n",
    "bar_graph('nhood','ptime_unityears', 'Figure 8. SF Entitlement Times by Neighborhood', 'Neighborhood', 'Median Entitlement Time (Years per Unit)', df_nb_full, True, graph_options)"
   ]
  },
  {
   "cell_type": "code",
   "execution_count": null,
   "metadata": {
    "collapsed": false
   },
   "outputs": [],
   "source": [
    "df_nb_full.shape"
   ]
  },
  {
   "cell_type": "code",
   "execution_count": null,
   "metadata": {
    "collapsed": true
   },
   "outputs": [],
   "source": []
  }
 ],
 "metadata": {
  "anaconda-cloud": {},
  "kernelspec": {
   "display_name": "Python [Root]",
   "language": "python",
   "name": "Python [Root]"
  },
  "language_info": {
   "codemirror_mode": {
    "name": "ipython",
    "version": 3
   },
   "file_extension": ".py",
   "mimetype": "text/x-python",
   "name": "python",
   "nbconvert_exporter": "python",
   "pygments_lexer": "ipython3",
   "version": "3.5.2"
  }
 },
 "nbformat": 4,
 "nbformat_minor": 0
}
