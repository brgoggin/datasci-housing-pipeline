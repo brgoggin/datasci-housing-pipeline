{
 "cells": [
  {
   "cell_type": "markdown",
   "metadata": {},
   "source": [
    "# Produces dataset of project times from appended pipeline datasets (\"all_quarters_merged.csv\")"
   ]
  },
  {
   "cell_type": "code",
   "execution_count": 9,
   "metadata": {
    "collapsed": true
   },
   "outputs": [],
   "source": [
    "import pandas as pd\n",
    "import logging\n",
    "import dateutil\n",
    "from dateutil import parser\n",
    "import numpy as np\n",
    "import matplotlib.pyplot as plt\n",
    "%matplotlib inline\n",
    "pd.set_option('display.max_columns', 500)\n",
    "pd.set_option('display.float_format', lambda x: '%.2f' % x) "
   ]
  },
  {
   "cell_type": "code",
   "execution_count": 10,
   "metadata": {
    "collapsed": true
   },
   "outputs": [],
   "source": [
    "logging.basicConfig(level=logging.INFO)"
   ]
  },
  {
   "cell_type": "markdown",
   "metadata": {},
   "source": [
    "# Actual Code"
   ]
  },
  {
   "cell_type": "code",
   "execution_count": 11,
   "metadata": {
    "collapsed": false
   },
   "outputs": [],
   "source": [
    "def convert_to_one_record_per_project(df):\n",
    "    \"\"\"\n",
    "    Group the dataset by (apn, address) and then emit one row per (apn, address) pair.\n",
    "    best_date and best_stat will be converted into arrays.\n",
    "    All other attributes will be taken from the record with the most recent `best_date` attribute.\n",
    "    \"\"\"\n",
    "    gb = df.groupby(['apn', 'address'])\n",
    "    for k in gb.groups:\n",
    "        group_df = gb.get_group(k)\n",
    "        group_df = group_df.sort_values(['best_date', 'report_year', 'report_quarter'], ascending=[True, True, True])\n",
    "        last_row = group_df.tail(1).copy()\n",
    "        last_row=last_row.reset_index(drop=True)\n",
    "        \n",
    "        # identify building permit ID. Then fill in rest of quarters with this permit ID.\n",
    "        building_permit=np.nan\n",
    "        for index, row in group_df.iterrows():\n",
    "            if pd.isnull(row['dbi_permit']) and not pd.isnull(building_permit):\n",
    "                building_permit=building_permit\n",
    "            else:\n",
    "                building_permit = row['dbi_permit']\n",
    "                \n",
    "        #standardize building permit formats to strings\n",
    "        if isinstance(building_permit, float) and not pd.isnull(building_permit):\n",
    "            building_permit=str(int(building_permit))\n",
    "        elif pd.isnull(building_permit)==True:\n",
    "            building_permit=''\n",
    "        else:\n",
    "            building_permit=str(building_permit)\n",
    "    \n",
    "                \n",
    "        #Identify completion quarter for those projects that have reached completion\n",
    "        for index, row in group_df.iterrows():\n",
    "            if row['best_stat'] !='CONSTRUCTION':\n",
    "                comp_quarter= np.nan\n",
    "                comp_year=np.nan\n",
    "            elif row['best_stat'] == 'CONSTRUCTION':\n",
    "                comp_quarter = row['report_quarter']\n",
    "                comp_year = row['report_year']\n",
    "\n",
    "        if pd.isnull(comp_quarter):\n",
    "            pass\n",
    "        if comp_quarter == 2 and comp_year == 2017:\n",
    "            comp_quarter = np.nan\n",
    "        elif comp_quarter == 4:\n",
    "            comp_quarter = 1\n",
    "            comp_year = 1+comp_year\n",
    "        else:\n",
    "            comp_quarter = 1+comp_quarter\n",
    "            \n",
    "        if comp_quarter ==1:\n",
    "            comp_daymth= '01/01'\n",
    "        elif comp_quarter ==2:\n",
    "            comp_daymth= '04/01'\n",
    "        elif comp_quarter==3:\n",
    "            comp_daymth= '07/01'\n",
    "        elif comp_quarter == 4:\n",
    "            comp_daymth= '10/01'\n",
    "        elif pd.isnull(comp_quarter):\n",
    "            comp_daymth=np.nan\n",
    "\n",
    "        if pd.isnull(comp_daymth):\n",
    "            comp_date = np.nan\n",
    "        else:\n",
    "            comp_date = comp_daymth + \"/\" + str(comp_year)\n",
    "            \n",
    "        #if not completed, find when it dropped out\n",
    "        final_status=last_row['best_stat'][0]\n",
    "\n",
    "        final_quarter=last_row['report_quarter'][0]\n",
    "        final_year=last_row['report_year'][0]\n",
    "\n",
    "        dropped_out=False\n",
    "        if final_status != 'CONSTRUCTION' and final_quarter !=2 and final_year !=2017:\n",
    "            dropped_out=True\n",
    "        \n",
    "        #Identify earliest \"firstfiled\" date\n",
    "        firstfiled=''\n",
    "        for index, row in group_df.iterrows():\n",
    "            if pd.isnull(row['firstfiled']):\n",
    "                continue\n",
    "            else:\n",
    "                if len(firstfiled) ==0:\n",
    "                    firstfiled=row['firstfiled']\n",
    "                else:\n",
    "                    if dateutil.parser.parse(row['firstfiled']) < dateutil.parser.parse(firstfiled):\n",
    "                        firstfiled=row['firstfiled']\n",
    "                    else: \n",
    "                        firstfiled=firstfiled\n",
    "        \n",
    "        #Identify earliest best date\n",
    "        earliest_BD = ''\n",
    "        for index, row in group_df.iterrows():\n",
    "            if pd.isnull(row['best_date']):\n",
    "                continue\n",
    "            else:\n",
    "                if len(earliest_BD) == 0:\n",
    "                    earliest_BD = row['best_date']\n",
    "                else:\n",
    "                    continue\n",
    "        \n",
    "        # Finalize first date variable (minimum of earliest best_date and firstfiled)\n",
    "        if firstfiled =='' and earliest_BD !='':\n",
    "            first_date = earliest_BD\n",
    "        elif earliest_BD=='' and firstfiled !='':\n",
    "            first_date = firstfiled\n",
    "        elif firstfiled !='' and earliest_BD !='':\n",
    "            first_date = min(firstfiled, earliest_BD)\n",
    "            \n",
    "        # initiate variables. Groups without these dates are blank for these variables.\n",
    "        BP_date = ''\n",
    "        con_date = ''\n",
    "\n",
    "        #Identify first date for all status categories\n",
    "        m=0\n",
    "        for index, row in group_df.iterrows():\n",
    "            if m == 0:\n",
    "                status_previous = 'blah'\n",
    "            if row['status']=='Building Permit Approved':\n",
    "                if index == 0:\n",
    "                    BP_date = row['best_date']\n",
    "                elif index !=0:\n",
    "                    if status_previous =='Building Permit Approved':\n",
    "                        BP_date=BP_date\n",
    "                    else:\n",
    "                        BP_date = row['best_date']\n",
    "            elif row['status']=='Under Construction':\n",
    "                if index == 0:\n",
    "                    con_date = row['best_date']\n",
    "                elif index !=0:\n",
    "                    if status_previous =='Under Construction':\n",
    "                        con_date=con_date\n",
    "                    else:\n",
    "                        con_date = row['best_date']\n",
    "            status_previous = row['status']\n",
    "            m=m+1\n",
    "            \n",
    "        #Identify latest unit counts\n",
    "        units = np.nan\n",
    "        for index, row in group_df.iterrows():\n",
    "            if pd.isnull(row['units']):\n",
    "                continue\n",
    "            else:\n",
    "                units = row['units']\n",
    "                \n",
    "        #Identify latest net unit counts\n",
    "        unitsnet= np.nan\n",
    "        for index, row in group_df.iterrows():\n",
    "            if pd.isnull(row['unitsnet']):\n",
    "                continue\n",
    "            else:\n",
    "                unitsnet = row['unitsnet']\n",
    "                \n",
    "        #Identify latest aff unit counts\n",
    "        aff = np.nan\n",
    "        for index, row in group_df.iterrows():\n",
    "            if pd.isnull(row['aff']):\n",
    "                continue\n",
    "            else:\n",
    "                aff = row['aff']\n",
    "                \n",
    "        #Identify latest aff net unit counts\n",
    "        affnet= np.nan\n",
    "        for index, row in group_df.iterrows():\n",
    "            if pd.isnull(row['affnet']):\n",
    "                continue\n",
    "            else:\n",
    "                affnet = row['affnet']\n",
    "                \n",
    "        \n",
    "        #a few projects have construction best date after the completion date. In these cases, match the two.\n",
    "        if pd.notnull(comp_date) & pd.notnull(con_date):\n",
    "            if dateutil.parser.parse(comp_date) < dateutil.parser.parse(con_date):\n",
    "                comp_date = con_date\n",
    "                \n",
    "        #Identify latest zoning designation\n",
    "        for index, row in group_df.iterrows():\n",
    "            zoning = row['zoning_simplified']\n",
    "        \n",
    "        last_row['firstfiled']=firstfiled\n",
    "        last_row['dbi_permit']= building_permit\n",
    "        last_row['comp_date']=comp_date\n",
    "        last_row['BP_date'] = BP_date\n",
    "        last_row['con_date'] = con_date\n",
    "        last_row['first_date']=first_date\n",
    "        last_row['latest_project_record_date'] = last_row.best_date\n",
    "        last_row['first_project_record_date'] = group_df.iloc[0].best_date\n",
    "        last_row['latest_project_status'] = last_row.best_stat\n",
    "        last_row['units']=units\n",
    "        last_row['unitsnet']=unitsnet\n",
    "        last_row['aff']=aff\n",
    "        last_row['affnet']=affnet\n",
    "        last_row['zoning']=zoning\n",
    "        last_row['dropped_out']=dropped_out\n",
    "\n",
    "        ## Store a parseable list of all the project states and the dates those states were reported\n",
    "        last_row['project_dates'] = str(tuple(group_df.best_date))\n",
    "        last_row['project_statuses'] = str(tuple(group_df.best_stat))\n",
    "\n",
    "        ## Store the project duration in days\n",
    "        if not (pd.isnull(comp_date) or pd.isnull(first_date)):\n",
    "            last_row['project_duration_days'] = (dateutil.parser.parse(comp_date) - dateutil.parser.parse(first_date)).days\n",
    "        \n",
    "        yield last_row\n",
    "\n",
    "\n",
    "def main():\n",
    "    df = pd.read_csv(\"cleaned/all_quarters_merged.csv\")\n",
    "    #consolidate status categories. Start with 3 for now\n",
    "    def status_function(value):\n",
    "        if value['best_stat']==\"CONSTRUCTION\":\n",
    "            field = 'Under Construction'\n",
    "        elif (value['best_stat']=='BP APPROVED') | (value['best_stat']=='BP ISSUED') | (value['best_stat']=='BP REINSTATED'):\n",
    "            field = 'Building Permit Approved'\n",
    "        else:\n",
    "            field = 'Proposed'\n",
    "        return field\n",
    "\n",
    "    df['status']=df.apply(status_function, axis=1)\n",
    "    \n",
    "    #keep only variables we want\n",
    "    list = ['address', 'apn', 'best_date', 'best_stat','status', 'firstfiled', 'report_quarter', 'report_year','units','unitsnet', 'aff', 'affnet', 'dbi_permit', 'zoning_simplified', 'x', 'y']\n",
    "    df = df[list]\n",
    "    new_df = pd.concat(convert_to_one_record_per_project(df))\n",
    "    logging.info(\"Writing output ({} rows, {} cols) to data/cleaned/all_quarters__one_record_per_project.csv\".format(*new_df.shape))\n",
    "    new_df.to_csv(\"cleaned/all_quarters__one_record_per_project.csv\")\n",
    "    return new_df"
   ]
  },
  {
   "cell_type": "code",
   "execution_count": 12,
   "metadata": {
    "collapsed": false
   },
   "outputs": [
    {
     "name": "stderr",
     "output_type": "stream",
     "text": [
      "/Users/briangoggin/anaconda/lib/python3.5/site-packages/IPython/core/interactiveshell.py:2850: DtypeWarning: Columns (3,4,8,10,11,15,16,19,20,23,24,25,26,28,29,30,31,32,33,34,35,36,37,38,39,40,41,42,43,44,49,50,51,54,56,57,60,61,62,64,69,71,72,73,74,75,76,77,78,80,84,87,88,89,90,91,93,94,95,96,97,98,99,100,101,102,103,108,110,112,113,114,115,116,118,119,120,121,122,125,127,134,137,138,139,140,142,143) have mixed types. Specify dtype option on import or set low_memory=False.\n",
      "  if self.run_code(code, result):\n"
     ]
    }
   ],
   "source": [
    "new_df = main()"
   ]
  },
  {
   "cell_type": "code",
   "execution_count": 126,
   "metadata": {
    "collapsed": true
   },
   "outputs": [],
   "source": [
    "#First, filter out those projects that are exclusively non-residential (defined as those without units)\n",
    "new_df = new_df[new_df['units'] > 0]"
   ]
  },
  {
   "cell_type": "code",
   "execution_count": 127,
   "metadata": {
    "collapsed": true
   },
   "outputs": [],
   "source": [
    "#Next, keep only those that reached completion at some point over the time period\n",
    "new_df=new_df[pd.notnull(new_df['comp_date'])]\n",
    "new_df=new_df[new_df['firstfiled'] !='']"
   ]
  },
  {
   "cell_type": "code",
   "execution_count": 128,
   "metadata": {
    "collapsed": false
   },
   "outputs": [],
   "source": [
    "new_df=new_df[pd.notnull(new_df['firstfiled'])]"
   ]
  },
  {
   "cell_type": "markdown",
   "metadata": {},
   "source": [
    "# Manual Data Fixes (Post Catching Mistake)"
   ]
  },
  {
   "cell_type": "code",
   "execution_count": 134,
   "metadata": {
    "collapsed": false
   },
   "outputs": [],
   "source": [
    "# fix duplicates\n",
    "new_df['address_apn']=new_df['address']+new_df['apn']\n",
    "\n",
    "for index, row in new_df.iterrows():\n",
    "    if row['dbi_permit']=='':\n",
    "        row['dbi_permit']==row['address_apn']"
   ]
  },
  {
   "cell_type": "code",
   "execution_count": 146,
   "metadata": {
    "collapsed": false
   },
   "outputs": [
    {
     "data": {
      "text/plain": [
       "array(['2101 & 2155 WEBSTER STREET0629037', '70 DOUGLASS ST2625032',\n",
       "       '3575 GEARY BL1083002', '1006 16TH ST3833002',\n",
       "       '800 BROTHERHOOD WAY (UNDER CONSTRUCTION)7331005',\n",
       "       'HUDSON AVE AND WHITNEY YOUNG CIR4711118',\n",
       "       '1100 GOLDEN GATE AV0757025', '55 LAGUNA STREET0857001',\n",
       "       '1201-1225 TENNESSEE STREET4172022', '443 LINDEN ST0818049',\n",
       "       '49 MOSS ST3731119', '1169 MARKET ST3702053',\n",
       "       '782-786 ANDOVER ST5825007', '746 CAROLINA ST4096005',\n",
       "       '800 BROTHERHOOD WAY7331005', '1301 INDIANA ST4228010',\n",
       "       '145 AMES ST3632038', '3150 GEARY BL1066060', '4 OCTAVIA ST0855011',\n",
       "       '338 CARL ST1265009', '1076 HAMPSHIRE ST4152016',\n",
       "       '690 MONTEREY BLVD3094055', '1000 16TH ST3833001',\n",
       "       '236 - 238 SHIPLEY ST / 77 FALMOUTH ST3753314',\n",
       "       '1078 HAMPSHIRE ST4152046', '47 MOSS ST3731119',\n",
       "       '55 LAGUNA ST (BLDG 1)0870003', '1400 MISSION ST3507039',\n",
       "       '1006 / 1050 16TH ST & 1380 07TH ST3833002', '3575 GEARY BL1084010',\n",
       "       '1068 GUERRERO ST3632039', '101 EXECUTIVE PARK BL4991279',\n",
       "       '800 BROTHERHOOD WAY7331003', '338 CARL ST1265047',\n",
       "       '2155 WEBSTER ST0629037', '447 LINDEN ST0818048',\n",
       "       '1201 - 1225 TENNESSEE STREET4172022', '1076 HAMPSHIRE ST4152045',\n",
       "       '5 SHIPLEY ST / 935 FOLSOM ST / 77 FALMOUTH ST3753314',\n",
       "       '1400 07TH ST3833001', '1 ECKER ST3708056', '83 PANORAMA DR2821010',\n",
       "       '1190 MISSION ST3702052', '100 BUCHANAN ST0870003',\n",
       "       '1100 GOLDEN GATE AV0757028', 'PARCEL P - MARKET OCTAVIA0831023',\n",
       "       '201 FOLSOM ST3746003', '201 FOLSOM ST3746001',\n",
       "       '8 OCTAVIA ST0855011', '1340-1390 MISSION ST3508053',\n",
       "       'HUNTERS POINT SHIPYARD PHASE I4591C001', '1301 INDIANA ST4228158',\n",
       "       '1634-1690 PINE ST0647007', '101 EXECUTIVE PARK BL4991617',\n",
       "       '1420 MISSION ST3507039', '83 PANORAMA DR2821023',\n",
       "       '746 CAROLINA ST4096109', '3150 GEARY BL1066028',\n",
       "       '5800 03RD ST (BUILDING 4)5431A042', '70 DOUGLASS ST2625007A',\n",
       "       '1634 - 1690 PINE ST0647007', '5800 03RD ST5431A001',\n",
       "       '55 LAGUNA ST0857001', '782-786 ANDOVER ST5825032',\n",
       "       'HP SHIPYARD PHASE 1 (UNDER CONSTRUCTION)4591C001',\n",
       "       '218 BUCHANAN ST0857001A', '718 LONG BRIDGE ST8710004',\n",
       "       '800 BROTHERHOOD7331005', '1239 TURK ST0757027',\n",
       "       '1 ECKER ST3708022', '718 LONG BRIDGE ST8710007',\n",
       "       'MARKET OCTAVIA - PARCEL P0831023', '690 MONTEREY BL3094055'], dtype=object)"
      ]
     },
     "execution_count": 146,
     "metadata": {},
     "output_type": "execute_result"
    }
   ],
   "source": [
    "#Finally, filter out records with duplicate BP Ids\n",
    "new_df[new_df.duplicated('dbi_permit', keep=False)]['address_apn'].unique()"
   ]
  },
  {
   "cell_type": "code",
   "execution_count": 147,
   "metadata": {
    "collapsed": false
   },
   "outputs": [
    {
     "data": {
      "text/plain": [
       "1058    200702224724\n",
       "Name: dbi_permit, dtype: object"
      ]
     },
     "execution_count": 147,
     "metadata": {},
     "output_type": "execute_result"
    }
   ],
   "source": [
    "new_df[new_df['address_apn'] == '3575 GEARY BL1083002']['dbi_permit']"
   ]
  },
  {
   "cell_type": "code",
   "execution_count": 148,
   "metadata": {
    "collapsed": false
   },
   "outputs": [
    {
     "data": {
      "text/html": [
       "<div>\n",
       "<table border=\"1\" class=\"dataframe\">\n",
       "  <thead>\n",
       "    <tr style=\"text-align: right;\">\n",
       "      <th></th>\n",
       "      <th>BP_date</th>\n",
       "      <th>address</th>\n",
       "      <th>apn</th>\n",
       "      <th>best_date</th>\n",
       "      <th>best_stat</th>\n",
       "      <th>comp_date</th>\n",
       "      <th>con_date</th>\n",
       "      <th>dbi_permit</th>\n",
       "      <th>first_date</th>\n",
       "      <th>first_project_record_date</th>\n",
       "      <th>firstfiled</th>\n",
       "      <th>latest_project_record_date</th>\n",
       "      <th>latest_project_status</th>\n",
       "      <th>project_dates</th>\n",
       "      <th>project_duration_days</th>\n",
       "      <th>project_statuses</th>\n",
       "      <th>report_quarter</th>\n",
       "      <th>report_year</th>\n",
       "      <th>status</th>\n",
       "      <th>units</th>\n",
       "      <th>unitsnet</th>\n",
       "      <th>x</th>\n",
       "      <th>y</th>\n",
       "      <th>address_apn</th>\n",
       "    </tr>\n",
       "  </thead>\n",
       "  <tbody>\n",
       "    <tr>\n",
       "      <th>1058</th>\n",
       "      <td></td>\n",
       "      <td>3575 GEARY BL</td>\n",
       "      <td>1083002</td>\n",
       "      <td>2009-12-14</td>\n",
       "      <td>CONSTRUCTION</td>\n",
       "      <td>01/01/2010</td>\n",
       "      <td>2009-08-19</td>\n",
       "      <td>200702224724</td>\n",
       "      <td>2003-05-20</td>\n",
       "      <td>2009-08-19</td>\n",
       "      <td>2003-05-20</td>\n",
       "      <td>2009-12-14</td>\n",
       "      <td>CONSTRUCTION</td>\n",
       "      <td>('2009-08-19', '2009-12-14')</td>\n",
       "      <td>2418.00</td>\n",
       "      <td>('CONSTRUCTION', 'CONSTRUCTION')</td>\n",
       "      <td>4</td>\n",
       "      <td>2009</td>\n",
       "      <td>Under Construction</td>\n",
       "      <td>150.00</td>\n",
       "      <td>150.00</td>\n",
       "      <td>-122.46</td>\n",
       "      <td>37.78</td>\n",
       "      <td>3575 GEARY BL1083002</td>\n",
       "    </tr>\n",
       "    <tr>\n",
       "      <th>5422</th>\n",
       "      <td></td>\n",
       "      <td>3575 GEARY BL</td>\n",
       "      <td>1084010</td>\n",
       "      <td>2010-09-24</td>\n",
       "      <td>CONSTRUCTION</td>\n",
       "      <td>04/01/2011</td>\n",
       "      <td>2010-04-26</td>\n",
       "      <td>200702224724</td>\n",
       "      <td>2003-05-20</td>\n",
       "      <td>2010-04-26</td>\n",
       "      <td>2003-05-20</td>\n",
       "      <td>2010-09-24</td>\n",
       "      <td>CONSTRUCTION</td>\n",
       "      <td>('2010-04-26', '2010-05-07', '2010-08-16', '20...</td>\n",
       "      <td>2873.00</td>\n",
       "      <td>('CONSTRUCTION', 'CONSTRUCTION', 'CONSTRUCTION...</td>\n",
       "      <td>1</td>\n",
       "      <td>2011</td>\n",
       "      <td>Under Construction</td>\n",
       "      <td>150.00</td>\n",
       "      <td>nan</td>\n",
       "      <td>-122.46</td>\n",
       "      <td>37.78</td>\n",
       "      <td>3575 GEARY BL1084010</td>\n",
       "    </tr>\n",
       "  </tbody>\n",
       "</table>\n",
       "</div>"
      ],
      "text/plain": [
       "     BP_date        address      apn   best_date     best_stat   comp_date  \\\n",
       "1058          3575 GEARY BL  1083002  2009-12-14  CONSTRUCTION  01/01/2010   \n",
       "5422          3575 GEARY BL  1084010  2010-09-24  CONSTRUCTION  04/01/2011   \n",
       "\n",
       "        con_date    dbi_permit  first_date first_project_record_date  \\\n",
       "1058  2009-08-19  200702224724  2003-05-20                2009-08-19   \n",
       "5422  2010-04-26  200702224724  2003-05-20                2010-04-26   \n",
       "\n",
       "      firstfiled latest_project_record_date latest_project_status  \\\n",
       "1058  2003-05-20                 2009-12-14          CONSTRUCTION   \n",
       "5422  2003-05-20                 2010-09-24          CONSTRUCTION   \n",
       "\n",
       "                                          project_dates  \\\n",
       "1058                       ('2009-08-19', '2009-12-14')   \n",
       "5422  ('2010-04-26', '2010-05-07', '2010-08-16', '20...   \n",
       "\n",
       "      project_duration_days  \\\n",
       "1058                2418.00   \n",
       "5422                2873.00   \n",
       "\n",
       "                                       project_statuses  report_quarter  \\\n",
       "1058                   ('CONSTRUCTION', 'CONSTRUCTION')               4   \n",
       "5422  ('CONSTRUCTION', 'CONSTRUCTION', 'CONSTRUCTION...               1   \n",
       "\n",
       "      report_year              status  units  unitsnet       x     y  \\\n",
       "1058         2009  Under Construction 150.00    150.00 -122.46 37.78   \n",
       "5422         2011  Under Construction 150.00       nan -122.46 37.78   \n",
       "\n",
       "               address_apn  \n",
       "1058  3575 GEARY BL1083002  \n",
       "5422  3575 GEARY BL1084010  "
      ]
     },
     "execution_count": 148,
     "metadata": {},
     "output_type": "execute_result"
    }
   ],
   "source": [
    "new_df[new_df['dbi_permit']=='200702224724']"
   ]
  },
  {
   "cell_type": "markdown",
   "metadata": {},
   "source": [
    "# Previous Manual Fixes (Pre-Mistake)"
   ]
  },
  {
   "cell_type": "code",
   "execution_count": 116,
   "metadata": {
    "collapsed": false
   },
   "outputs": [],
   "source": [
    "# Pre Mistake Manual Fixes\n",
    "\n",
    "# fix duplicates\n",
    "new_df['address_apn']=new_df['address']+new_df['apn']\n",
    "\n",
    "#decided that both this and its duplicate BP at 1169 Market Street are two phases of the same project. Revise start date and drop 1169 Market\n",
    "new_df.loc[(new_df['address']=='1190 MISSION ST') & (new_df['apn']=='3702052'), 'first_date'] = '2003-07-15'\n",
    "new_df = new_df[new_df['address_apn'] !='1169 MARKET ST3702053']\n",
    "\n",
    "#Same project. Same dates except for construction date. Choosing best of the two dates based on Google street view.\n",
    "new_df.loc[(new_df['address']=='49 MOSS ST') & (new_df['apn']=='3731119'), 'con_date'] = '2015-05-20'\n",
    "new_df = new_df[new_df['address_apn'] !='47 MOSS ST3731119']\n",
    "\n",
    "#Assume that 101 EXECUTIVE PARK BL duplicates are legitimately separate projects. Different unit counts, etc.\n",
    "\n",
    "#Changed address name in final Q4 2015. Extend completion date by 1 quarter. Drop the duplicate.\n",
    "new_df.loc[(new_df['address']=='690 MONTEREY BLVD') & (new_df['apn']=='3094055'), 'comp_date'] = '2015-05-20'\n",
    "new_df=new_df[new_df['address_apn'] !='690 MONTEREY BL3094055']\n",
    "\n",
    "#1340-1390 MISSION ST no dbi permit in any quarter just leave in\n",
    "\n",
    "#Multiple Hunters point shipyards. I extend completion date and change units to latest available information. \n",
    "new_df.loc[(new_df['address']=='HUNTERS POINT SHIPYARD PHASE I') & (new_df['apn']=='4591C001'), 'comp_date'] = '10/01/2016'\n",
    "new_df.loc[(new_df['address']=='HUNTERS POINT SHIPYARD PHASE I') & (new_df['apn']=='4591C001'), 'units'] = 167\n",
    "new_df=new_df[new_df['address_apn'] !='HP SHIPYARD PHASE 1 (UNDER CONSTRUCTION)4591C001']\n",
    "\n",
    "#Same project. Change construction date to reflect earliest information.\n",
    "new_df.loc[(new_df['address']=='800 BROTHERHOOD WAY (UNDER CONSTRUCTION)') & (new_df['apn']=='7331005'), 'con_date'] = '2012-09-11'\n",
    "new_df=new_df[new_df['address_apn'] !='800 BROTHERHOOD7331005']\n",
    "\n",
    "#HUDSON AVE AND WHITNEY YOUNG CIR4711118—no dbi permit information in any quarter. Just leave in\n",
    "\n",
    "#Same project. Change completion date to latest available info.\n",
    "new_df.loc[(new_df['address']=='MARKET OCTAVIA - PARCEL P') & (new_df['apn']=='0831023'), 'comp_date'] = '01/01/2016'\n",
    "new_df=new_df[new_df['address_apn'] !='PARCEL P - MARKET OCTAVIA0831023']\n",
    "\n",
    "#duplicate projects. Update to reflect latest completion date information.\n",
    "new_df=new_df[new_df['address_apn'] !='443 LINDEN ST0818049']\n",
    "\n",
    "#duplicate projects. Update completion date and units to most recent information. Everything else to earliest info.\n",
    "new_df.loc[(new_df['address']=='2101 & 2155 WEBSTER STREET') & (new_df['apn']=='0629037'), 'con_date'] = '2015-03-18'\n",
    "new_df=new_df[new_df['address_apn'] !='2155 WEBSTER ST0629037']\n",
    "\n",
    "#duplicate projects but one just pops up for one quarter so just drop it.\n",
    "new_df=new_df[new_df['address_apn'] !='70 DOUGLASS ST2625032']\n",
    "\n",
    "#duplicate projects. Update completion date to most recent. Update construction date to earliest.\n",
    "new_df.loc[(new_df['address']=='3575 GEARY BL') & (new_df['apn']=='1084010'), 'con_date'] = '2010-04-26'\n",
    "new_df=new_df[new_df['address_apn'] !='3575 GEARY BL1083002']\n",
    "\n",
    "#duplicate projects. Drop ones that are out of date.\n",
    "new_df=new_df[new_df['address_apn'] !='1100 GOLDEN GATE AV0757028']\n",
    "new_df=new_df[new_df['address_apn'] !='1239 TURK ST0757027']\n",
    "\n",
    "#duplicate projects. Update completion date to most recent. Update construction date to earliest available.\n",
    "#Determined through PIM that 218 Buchanan alteration to 55 Laguna Street project. Update information to earliest possible.\n",
    "new_df.loc[(new_df['address']=='55 LAGUNA ST') & (new_df['apn']=='0857001'), 'con_date'] = '2013-08-07'\n",
    "new_df.loc[(new_df['address']=='55 LAGUNA ST') & (new_df['apn']=='0857001'), 'BP_date'] = '2013-06-11'\n",
    "new_df=new_df[new_df['address_apn'] !='55 LAGUNA STREET0857001']\n",
    "new_df=new_df[new_df['address_apn'] !='218 BUCHANAN ST0857001A']\n",
    "\n",
    "#duplicate with out of date info. Drop.\n",
    "new_df=new_df[new_df['address_apn'] !='782-786 ANDOVER ST5825032']\n",
    "\n",
    "#duplicate with out of date info. Drop.\n",
    "new_df=new_df[new_df['address_apn'] !='746 CAROLINA ST4096109']\n",
    "\n",
    "#duplicate with out of date info. Drop.\n",
    "new_df=new_df[new_df['address_apn'] !='1301 INDIANA ST4228010']\n",
    "\n",
    "#145 AMES ST and 1068 GUERRERO ST seem like legitimately different projects despite duplicate building permits.\n",
    "\n",
    "#duplicate with out of date info. Drop.\n",
    "new_df=new_df[new_df['address_apn'] !='3150 GEARY BL1066060']\n",
    "\n",
    "#seems like the same project (8 Octavia versus 4 Octavia). Updating completion date.\n",
    "new_df.loc[(new_df['address']=='4 OCTAVIA ST') & (new_df['apn']=='0855011'), 'BP_date'] = '10/01/2014'\n",
    "new_df=new_df[new_df['address_apn'] !='8 OCTAVIA ST0855011']\n",
    "\n",
    "#drop duplicate 338 Carl Street. No new info.\n",
    "new_df=new_df[new_df['address_apn'] !='338 CARL ST1265047']\n",
    "\n",
    "#drop duplicate 1076 Hampshire Street and 1078 Hampshire Street. No new info.\n",
    "new_df=new_df[new_df['address_apn'] !='1076 HAMPSHIRE ST4152045']\n",
    "new_df=new_df[new_df['address_apn'] !='1078 HAMPSHIRE ST4152046']\n",
    "\n",
    "#duplicates. Updating comp date to most recent info.\n",
    "new_df.loc[(new_df['address']=='1420 MISSION ST') & (new_df['apn']=='3507039'), 'comp_date'] = '04/01/2015'\n",
    "new_df=new_df[new_df['address_apn'] !='1400 MISSION ST3507039']\n",
    "\n",
    "#there are 2 101 EXECUTIVE PARK BL's. I believe that they are separate projects so leaving them so here.\n",
    "\n",
    "#duplicates. Updating comp date to most recent info. Updating construction date to earliest info.\n",
    "new_df.loc[(new_df['address']=='1 ECKER ST') & (new_df['apn']=='3708022'), 'con_date'] = '2009-05-12'\n",
    "new_df=new_df[new_df['address_apn'] !='1 ECKER ST3708056']\n"
   ]
  },
  {
   "cell_type": "markdown",
   "metadata": {},
   "source": [
    "# Explore Duplicate Data"
   ]
  },
  {
   "cell_type": "code",
   "execution_count": 117,
   "metadata": {
    "collapsed": false
   },
   "outputs": [
    {
     "data": {
      "text/plain": [
       "array(['1006 16TH ST3833002',\n",
       "       '800 BROTHERHOOD WAY (UNDER CONSTRUCTION)7331005',\n",
       "       'HUDSON AVE AND WHITNEY YOUNG CIR4711118',\n",
       "       '1201-1225 TENNESSEE STREET4172022', '800 BROTHERHOOD WAY7331005',\n",
       "       '145 AMES ST3632038', '1000 16TH ST3833001',\n",
       "       '236 - 238 SHIPLEY ST / 77 FALMOUTH ST3753314',\n",
       "       '55 LAGUNA ST (BLDG 1)0870003',\n",
       "       '1006 / 1050 16TH ST & 1380 07TH ST3833002',\n",
       "       '1068 GUERRERO ST3632039', '101 EXECUTIVE PARK BL4991279',\n",
       "       '800 BROTHERHOOD WAY7331003', '1201 - 1225 TENNESSEE STREET4172022',\n",
       "       '5 SHIPLEY ST / 935 FOLSOM ST / 77 FALMOUTH ST3753314',\n",
       "       '1400 07TH ST3833001', '83 PANORAMA DR2821010',\n",
       "       '100 BUCHANAN ST0870003', '201 FOLSOM ST3746003',\n",
       "       '201 FOLSOM ST3746001', '1340-1390 MISSION ST3508053',\n",
       "       'HUNTERS POINT SHIPYARD PHASE I4591C001',\n",
       "       '1634-1690 PINE ST0647007', '101 EXECUTIVE PARK BL4991617',\n",
       "       '83 PANORAMA DR2821023', '5800 03RD ST (BUILDING 4)5431A042',\n",
       "       '1634 - 1690 PINE ST0647007', '5800 03RD ST5431A001',\n",
       "       '718 LONG BRIDGE ST8710004', '718 LONG BRIDGE ST8710007'], dtype=object)"
      ]
     },
     "execution_count": 117,
     "metadata": {},
     "output_type": "execute_result"
    }
   ],
   "source": [
    "#Finally, filter out records with duplicate BP Ids\n",
    "new_df[new_df.duplicated('dbi_permit', keep=False)]['address_apn'].unique()"
   ]
  },
  {
   "cell_type": "code",
   "execution_count": 131,
   "metadata": {
    "collapsed": false
   },
   "outputs": [
    {
     "data": {
      "text/plain": [
       "Series([], Name: dbi_permit, dtype: object)"
      ]
     },
     "execution_count": 131,
     "metadata": {},
     "output_type": "execute_result"
    }
   ],
   "source": [
    "new_df[new_df['address_apn'] == '2101 & 2155 WEBSTER STREET']['dbi_permit']"
   ]
  },
  {
   "cell_type": "code",
   "execution_count": 119,
   "metadata": {
    "collapsed": false
   },
   "outputs": [],
   "source": [
    "#new_df[pd.isnull(new_df['dbi_permit'])]"
   ]
  },
  {
   "cell_type": "code",
   "execution_count": 121,
   "metadata": {
    "collapsed": false
   },
   "outputs": [
    {
     "data": {
      "text/html": [
       "<div>\n",
       "<table border=\"1\" class=\"dataframe\">\n",
       "  <thead>\n",
       "    <tr style=\"text-align: right;\">\n",
       "      <th></th>\n",
       "      <th>BP_date</th>\n",
       "      <th>address</th>\n",
       "      <th>apn</th>\n",
       "      <th>best_date</th>\n",
       "      <th>best_stat</th>\n",
       "      <th>comp_date</th>\n",
       "      <th>con_date</th>\n",
       "      <th>dbi_permit</th>\n",
       "      <th>first_date</th>\n",
       "      <th>first_project_record_date</th>\n",
       "      <th>firstfiled</th>\n",
       "      <th>latest_project_record_date</th>\n",
       "      <th>latest_project_status</th>\n",
       "      <th>project_dates</th>\n",
       "      <th>project_duration_days</th>\n",
       "      <th>project_statuses</th>\n",
       "      <th>report_quarter</th>\n",
       "      <th>report_year</th>\n",
       "      <th>status</th>\n",
       "      <th>units</th>\n",
       "      <th>unitsnet</th>\n",
       "      <th>x</th>\n",
       "      <th>y</th>\n",
       "      <th>address_apn</th>\n",
       "    </tr>\n",
       "  </thead>\n",
       "  <tbody>\n",
       "    <tr>\n",
       "      <th>16492</th>\n",
       "      <td>2012-09-07</td>\n",
       "      <td>1006 16TH ST</td>\n",
       "      <td>3833002</td>\n",
       "      <td>2014-09-30</td>\n",
       "      <td>CONSTRUCTION</td>\n",
       "      <td>10/01/2014</td>\n",
       "      <td>2014-09-30</td>\n",
       "      <td>201112070234.00</td>\n",
       "      <td>2011-12-07</td>\n",
       "      <td>2011-12-07</td>\n",
       "      <td>2011-12-07 00:00:00</td>\n",
       "      <td>2014-09-30</td>\n",
       "      <td>CONSTRUCTION</td>\n",
       "      <td>('2011-12-07', '2011-12-07', '2011-12-07', '20...</td>\n",
       "      <td>1029.00</td>\n",
       "      <td>('BP FILED', 'BP FILED', 'BP FILED', 'BP ISSUE...</td>\n",
       "      <td>3</td>\n",
       "      <td>2014</td>\n",
       "      <td>Under Construction</td>\n",
       "      <td>393.00</td>\n",
       "      <td>393.00</td>\n",
       "      <td>-122.40</td>\n",
       "      <td>37.77</td>\n",
       "      <td>1006 16TH ST3833002</td>\n",
       "    </tr>\n",
       "    <tr>\n",
       "      <th>22549</th>\n",
       "      <td></td>\n",
       "      <td>1006 / 1050 16TH ST &amp; 1380 07TH ST</td>\n",
       "      <td>3833002</td>\n",
       "      <td>2016-03-30</td>\n",
       "      <td>CONSTRUCTION</td>\n",
       "      <td>04/01/2016</td>\n",
       "      <td>2016-03-30</td>\n",
       "      <td>201112070234.00</td>\n",
       "      <td>2003-05-09</td>\n",
       "      <td>2016-03-30</td>\n",
       "      <td>2003-05-09</td>\n",
       "      <td>2016-03-30</td>\n",
       "      <td>CONSTRUCTION</td>\n",
       "      <td>('2016-03-30',)</td>\n",
       "      <td>4711.00</td>\n",
       "      <td>('CONSTRUCTION',)</td>\n",
       "      <td>1</td>\n",
       "      <td>2016</td>\n",
       "      <td>Under Construction</td>\n",
       "      <td>393.00</td>\n",
       "      <td>393.00</td>\n",
       "      <td>-122.40</td>\n",
       "      <td>37.77</td>\n",
       "      <td>1006 / 1050 16TH ST &amp; 1380 07TH ST3833002</td>\n",
       "    </tr>\n",
       "  </tbody>\n",
       "</table>\n",
       "</div>"
      ],
      "text/plain": [
       "          BP_date                             address      apn   best_date  \\\n",
       "16492  2012-09-07                        1006 16TH ST  3833002  2014-09-30   \n",
       "22549              1006 / 1050 16TH ST & 1380 07TH ST  3833002  2016-03-30   \n",
       "\n",
       "          best_stat   comp_date    con_date      dbi_permit  first_date  \\\n",
       "16492  CONSTRUCTION  10/01/2014  2014-09-30 201112070234.00  2011-12-07   \n",
       "22549  CONSTRUCTION  04/01/2016  2016-03-30 201112070234.00  2003-05-09   \n",
       "\n",
       "      first_project_record_date           firstfiled  \\\n",
       "16492                2011-12-07  2011-12-07 00:00:00   \n",
       "22549                2016-03-30           2003-05-09   \n",
       "\n",
       "      latest_project_record_date latest_project_status  \\\n",
       "16492                 2014-09-30          CONSTRUCTION   \n",
       "22549                 2016-03-30          CONSTRUCTION   \n",
       "\n",
       "                                           project_dates  \\\n",
       "16492  ('2011-12-07', '2011-12-07', '2011-12-07', '20...   \n",
       "22549                                    ('2016-03-30',)   \n",
       "\n",
       "       project_duration_days  \\\n",
       "16492                1029.00   \n",
       "22549                4711.00   \n",
       "\n",
       "                                        project_statuses  report_quarter  \\\n",
       "16492  ('BP FILED', 'BP FILED', 'BP FILED', 'BP ISSUE...               3   \n",
       "22549                                  ('CONSTRUCTION',)               1   \n",
       "\n",
       "       report_year              status  units  unitsnet       x     y  \\\n",
       "16492         2014  Under Construction 393.00    393.00 -122.40 37.77   \n",
       "22549         2016  Under Construction 393.00    393.00 -122.40 37.77   \n",
       "\n",
       "                                     address_apn  \n",
       "16492                        1006 16TH ST3833002  \n",
       "22549  1006 / 1050 16TH ST & 1380 07TH ST3833002  "
      ]
     },
     "execution_count": 121,
     "metadata": {},
     "output_type": "execute_result"
    }
   ],
   "source": [
    "new_df[new_df['dbi_permit']==201112070234.00]"
   ]
  },
  {
   "cell_type": "code",
   "execution_count": 41,
   "metadata": {
    "collapsed": false
   },
   "outputs": [
    {
     "data": {
      "text/plain": [
       "29283    \n",
       "Name: firstfiled, dtype: object"
      ]
     },
     "execution_count": 41,
     "metadata": {},
     "output_type": "execute_result"
    }
   ],
   "source": [
    "new_df[new_df['address_apn']=='HUNTERS VIEW4624031']['firstfiled']"
   ]
  },
  {
   "cell_type": "code",
   "execution_count": null,
   "metadata": {
    "collapsed": false
   },
   "outputs": [],
   "source": [
    "#explore duplicated\n",
    "new_df[new_df['address']=='2155 WEBSTER ST']"
   ]
  },
  {
   "cell_type": "code",
   "execution_count": null,
   "metadata": {
    "collapsed": false
   },
   "outputs": [],
   "source": [
    "new_df[new_df['dbi_permit']=='200705010136']"
   ]
  },
  {
   "cell_type": "code",
   "execution_count": null,
   "metadata": {
    "collapsed": false
   },
   "outputs": [],
   "source": [
    "new_df[new_df['project_duration_days']<0]"
   ]
  },
  {
   "cell_type": "markdown",
   "metadata": {},
   "source": [
    "# Manual Data Cleaning\n",
    "Based off of identified duplicates in the previous section"
   ]
  },
  {
   "cell_type": "code",
   "execution_count": 26,
   "metadata": {
    "collapsed": false
   },
   "outputs": [],
   "source": []
  },
  {
   "cell_type": "code",
   "execution_count": 30,
   "metadata": {
    "collapsed": true
   },
   "outputs": [],
   "source": []
  },
  {
   "cell_type": "code",
   "execution_count": null,
   "metadata": {
    "collapsed": true
   },
   "outputs": [],
   "source": []
  },
  {
   "cell_type": "code",
   "execution_count": null,
   "metadata": {
    "collapsed": true
   },
   "outputs": [],
   "source": []
  },
  {
   "cell_type": "code",
   "execution_count": null,
   "metadata": {
    "collapsed": true
   },
   "outputs": [],
   "source": []
  },
  {
   "cell_type": "code",
   "execution_count": null,
   "metadata": {
    "collapsed": true
   },
   "outputs": [],
   "source": [
    "#this has a duplicate, same address, different APN\n",
    "new_df=new_df[(new_df['address']!='3575 GEARY BL') | (new_df['apn']=='1084010')]"
   ]
  },
  {
   "cell_type": "code",
   "execution_count": null,
   "metadata": {
    "collapsed": false
   },
   "outputs": [],
   "source": [
    "#same project, happening at different periods\n",
    "new_df.loc[(new_df['address']=='1634-1690 PINE ST') & (new_df['apn']=='0647007'), 'comp_date']='07/01/2016'\n",
    "new_df=new_df[(new_df['address']!='1634 - 1690 PINE ST') | (new_df['apn']=='0647007')]"
   ]
  },
  {
   "cell_type": "code",
   "execution_count": null,
   "metadata": {
    "collapsed": false
   },
   "outputs": [],
   "source": [
    "new_df.loc[(new_df['address']=='1634-1690 PINE ST') & (new_df['apn']=='0647007')]"
   ]
  },
  {
   "cell_type": "code",
   "execution_count": null,
   "metadata": {
    "collapsed": true
   },
   "outputs": [],
   "source": [
    "#Be sure to redo project duration after all manual cleaning"
   ]
  },
  {
   "cell_type": "code",
   "execution_count": null,
   "metadata": {
    "collapsed": true
   },
   "outputs": [],
   "source": [
    "#do median time based on neighborhood"
   ]
  },
  {
   "cell_type": "code",
   "execution_count": null,
   "metadata": {
    "collapsed": true
   },
   "outputs": [],
   "source": [
    "#breakdown time to completion by stage for those projects that this can be done for"
   ]
  }
 ],
 "metadata": {
  "anaconda-cloud": {},
  "kernelspec": {
   "display_name": "Python [Root]",
   "language": "python",
   "name": "Python [Root]"
  },
  "language_info": {
   "codemirror_mode": {
    "name": "ipython",
    "version": 3
   },
   "file_extension": ".py",
   "mimetype": "text/x-python",
   "name": "python",
   "nbconvert_exporter": "python",
   "pygments_lexer": "ipython3",
   "version": "3.5.2"
  }
 },
 "nbformat": 4,
 "nbformat_minor": 0
}
